{
 "cells": [
  {
   "cell_type": "code",
   "execution_count": null,
   "id": "e725a0e9-b680-4963-be0f-c55a4753f910",
   "metadata": {},
   "outputs": [],
   "source": []
  },
  {
   "cell_type": "markdown",
   "id": "34fcd703-376c-40d2-ad56-f5ab475f5255",
   "metadata": {},
   "source": [
    "# Homework 2 for \"Transcriptomics and Metagenomics\" course"
   ]
  },
  {
   "cell_type": "markdown",
   "id": "2b1876e2-78ff-48c8-b41c-dc912cd06195",
   "metadata": {},
   "source": [
    "#### [Assignmnent description](https://docs.google.com/document/d/15QH3CC-UtinXM76fyToKoLiQD0YLnpK-TUfplt6mEks/edit)"
   ]
  },
  {
   "cell_type": "code",
   "execution_count": null,
   "id": "8b40ccda-729b-4570-8eed-10530f317011",
   "metadata": {},
   "outputs": [],
   "source": []
  },
  {
   "cell_type": "code",
   "execution_count": null,
   "id": "6938dd8f-3cea-41c2-a6b1-193b04b6ef3d",
   "metadata": {},
   "outputs": [],
   "source": []
  },
  {
   "cell_type": "code",
   "execution_count": null,
   "id": "2f5cd600-5b50-4f87-9157-a2e16a1b7e42",
   "metadata": {},
   "outputs": [],
   "source": []
  },
  {
   "cell_type": "markdown",
   "id": "cedd9e28-a4ca-4c4e-a950-155d93793042",
   "metadata": {},
   "source": [
    "## 0. Downloading necessary data"
   ]
  },
  {
   "cell_type": "code",
   "execution_count": null,
   "id": "678dfa78-d46c-4d0e-86b2-1b71689196ba",
   "metadata": {},
   "outputs": [],
   "source": []
  },
  {
   "cell_type": "markdown",
   "id": "72c8c05d-1731-4976-bde0-04632815a5e8",
   "metadata": {},
   "source": [
    "#### 0.1. E. coli reference genome"
   ]
  },
  {
   "cell_type": "code",
   "execution_count": null,
   "id": "9951189a-ef43-47f8-be11-639da82e2fbc",
   "metadata": {},
   "outputs": [],
   "source": [
    "# assuming working directory is ~/raw_data\n",
    "\n",
    "# !wget https://ftp.ncbi.nlm.nih.gov/genomes/all/GCF/000/005/845/GCF_000005845.2_ASM584v2/GCF_000005845.2_ASM584v2_genomic.fna.gz\n",
    "# !wget https://ftp.ncbi.nlm.nih.gov/genomes/all/GCF/000/005/845/GCF_000005845.2_ASM584v2/GCF_000005845.2_ASM584v2_genomic.gff.gz"
   ]
  },
  {
   "cell_type": "code",
   "execution_count": null,
   "id": "4b11129e-8d97-40b7-8f3d-ce55bafc70cf",
   "metadata": {},
   "outputs": [],
   "source": []
  },
  {
   "cell_type": "markdown",
   "id": "86305a2a-4a64-41d8-9eac-98f8a58926ca",
   "metadata": {},
   "source": [
    "#### 0.2. E. coli resistant to Amp (raw Illumina sequencing reads)"
   ]
  },
  {
   "cell_type": "code",
   "execution_count": null,
   "id": "5a4e6758-1168-4c38-9ba2-9db9dab14b76",
   "metadata": {},
   "outputs": [],
   "source": [
    "# https://figshare.com/articles/dataset/amp_res_2_fastq_zip/10006541/3?file=23769692"
   ]
  },
  {
   "cell_type": "code",
   "execution_count": null,
   "id": "8a2897bc-0b02-40e3-95ab-9921888c71e5",
   "metadata": {},
   "outputs": [],
   "source": []
  },
  {
   "cell_type": "code",
   "execution_count": null,
   "id": "fa669521-ebf8-4721-b2d3-3d1a878ce47b",
   "metadata": {},
   "outputs": [],
   "source": []
  },
  {
   "cell_type": "code",
   "execution_count": null,
   "id": "c57efed5-aa4d-43d5-9597-1bbccabf5d41",
   "metadata": {},
   "outputs": [],
   "source": []
  },
  {
   "cell_type": "markdown",
   "id": "c22e6cb2-50ca-4e8a-a9a0-73678ad3060e",
   "metadata": {},
   "source": [
    "## 1. Manual inspection of reads"
   ]
  },
  {
   "cell_type": "code",
   "execution_count": null,
   "id": "91ad5b98-36b2-4df0-9c7d-66f061561c28",
   "metadata": {},
   "outputs": [],
   "source": []
  },
  {
   "cell_type": "markdown",
   "id": "45e1849f-c0e9-4c15-a714-43e06c58abf3",
   "metadata": {},
   "source": [
    "### 1.1. Checking the contents"
   ]
  },
  {
   "cell_type": "code",
   "execution_count": 14,
   "id": "ef466bb3-0dbb-4b7b-8d6b-e69d098b045b",
   "metadata": {},
   "outputs": [
    {
     "name": "stdout",
     "output_type": "stream",
     "text": [
      "@SRR1363257.37 GWZHISEQ01:153:C1W31ACXX:5:1101:14027:2198 length=101\n",
      "GGTTGCAGATTCGCAGTGTCGCTGTTCCAGCGCATCACATCTTTGATGTTCACGCCGTGGCGTTTAGCAATGCTTGAAAGCGAATCGCCTTTGCCCACACG\n",
      "+\n",
      "@?:=:;DBFADH;CAECEE@@E:FFHGAE4?C?DE<BFGEC>?>FHE4BFFIIFHIBABEECA83;>>@>@CCCDC9@@CC08<@?@BB@9:CC#######\n",
      "@SRR1363257.46 GWZHISEQ01:153:C1W31ACXX:5:1101:19721:2155 length=101\n",
      "GTATGAGGTTTTGCTGCATTCTCTGNGCGAATATTAACTCCNTNNNNNTTATAGTTCAAAGCAAGTACCTGTCTCTTATACACATCTCCGAGCCCACGAGC\n",
      "+\n",
      "@@<?=D?D==?<AFGDF+AIHEACH#22<:?E8??:9??GG#0#####000;CF=C)4.==CA@@@)=7?C7?E37;3@>;;(.;>AB#############\n",
      "@SRR1363257.77 GWZHISEQ01:153:C1W31ACXX:5:1101:5069:2307 length=101\n",
      "GCTTCTCTTAACTGAGGTCACCATCATGCCGTTAAGTCCCTACCTCTCTTTTGCCGGTAACTGTTCCGCCGCGATTGCCTTTTATCTGTCTCTTATACACC\n",
      "+\n",
      "??<DBD;4C2=<BB>:AC;<CF<CE@FE9@E1C@891CD*9:?:3D@DD4?D<DD:0;@A=AEIDDA##################################\n",
      "@SRR1363257.78 GWZHISEQ01:153:C1W31ACXX:5:1101:5178:2440 length=101\n",
      "GCATAAGGACGATCGCTCCAGAGTAAAATAAATACGCGCATGTGATACTCACAATACCAATGGTGAAGTTACGGGACTTAAACAAACTGAGATCAAGAATC\n",
      "+\n",
      "CCCFFFFFHHHHHJJJJJJJJJJFFHIJJJJJJJJJJJJJJJJJJJJJJJIJHHHHHHFDEDF;AEEEEEEDDDDDBBACDDDCDDDDCCDDDDDDCCDC3\n",
      "@SRR1363257.96 GWZHISEQ01:153:C1W31ACXX:5:1101:6707:2460 length=101\n",
      "TCATTAAGCCGTGGTGGATGTGCCATAGCGCACCGCAAAGTTAAGAAACCGAATATTGGGTTTAGTCTTGTTTCATAATTGTTGCAATGAAACGCGGTGAA\n",
      "+\n",
      "CCCFFFFFHHHHHJHIIJIIIIJJJJJJGIJJJJJIJJIIGHJJJJJIIJJDHFFFFFEDACDDDCDDDDCCDDECACCDCCCDACDDDDCCDDDDDBD@A\n"
     ]
    }
   ],
   "source": [
    "# printing first 20 lines of file\n",
    "\n",
    "!head -20 /home/fpolyakov/trans_meta/homework2/raw_data/amp_res_1.fastq"
   ]
  },
  {
   "cell_type": "code",
   "execution_count": null,
   "id": "bf885cc2-f79a-43c7-8bca-ecbfcd1dfb13",
   "metadata": {},
   "outputs": [],
   "source": []
  },
  {
   "cell_type": "code",
   "execution_count": null,
   "id": "0496fcd6-4bcc-40a3-bdcf-83a4993030e1",
   "metadata": {},
   "outputs": [],
   "source": []
  },
  {
   "cell_type": "markdown",
   "id": "bd5559b4-3ccc-4ca3-9eda-c36353c8c899",
   "metadata": {},
   "source": [
    "### 1.2. Determining the number of reads in files"
   ]
  },
  {
   "cell_type": "code",
   "execution_count": null,
   "id": "26edc18f-460f-4662-9d70-8e6ee89c90a7",
   "metadata": {},
   "outputs": [],
   "source": []
  },
  {
   "cell_type": "code",
   "execution_count": 20,
   "id": "8102a0e6-ab81-4617-9f6f-530a9a6bddae",
   "metadata": {},
   "outputs": [
    {
     "name": "stdout",
     "output_type": "stream",
     "text": [
      "455876\n"
     ]
    }
   ],
   "source": [
    "# for amp_res_1.fastq\n",
    "\n",
    "!echo $(cat /home/fpolyakov/trans_meta/homework2/raw_data/amp_res_1.fastq|wc -l)/4|bc"
   ]
  },
  {
   "cell_type": "code",
   "execution_count": 21,
   "id": "11fb2a7a-2796-482d-afb7-93fa9b907f48",
   "metadata": {},
   "outputs": [
    {
     "name": "stdout",
     "output_type": "stream",
     "text": [
      "455876\n"
     ]
    }
   ],
   "source": [
    "# for amp_res_2.fastq\n",
    "\n",
    "!echo $(cat /home/fpolyakov/trans_meta/homework2/raw_data/amp_res_2.fastq|wc -l)/4|bc"
   ]
  },
  {
   "cell_type": "code",
   "execution_count": null,
   "id": "8dc7aa49-8ae9-412c-969f-7bed87ceb23e",
   "metadata": {},
   "outputs": [],
   "source": []
  },
  {
   "cell_type": "code",
   "execution_count": null,
   "id": "1944c05f-5e29-4513-80fb-b77e6b26c2df",
   "metadata": {},
   "outputs": [],
   "source": []
  },
  {
   "cell_type": "code",
   "execution_count": null,
   "id": "5ba90e4d-1f75-4e65-9433-4cb68a650d65",
   "metadata": {},
   "outputs": [],
   "source": []
  },
  {
   "cell_type": "code",
   "execution_count": null,
   "id": "be2fdc4a-4261-4da0-a326-d0c04e203ea2",
   "metadata": {},
   "outputs": [],
   "source": []
  },
  {
   "cell_type": "markdown",
   "id": "3706eef6-78e8-46d1-bd17-78b474278419",
   "metadata": {},
   "source": [
    "## 2. Running FastQC"
   ]
  },
  {
   "cell_type": "code",
   "execution_count": null,
   "id": "9d04b96c-a677-491c-b59e-a1d017b64df0",
   "metadata": {},
   "outputs": [],
   "source": []
  },
  {
   "cell_type": "code",
   "execution_count": 22,
   "id": "68250103-21b1-4c81-963e-006f07470e18",
   "metadata": {},
   "outputs": [
    {
     "name": "stdout",
     "output_type": "stream",
     "text": [
      "null\n",
      "null\n"
     ]
    },
    {
     "name": "stderr",
     "output_type": "stream",
     "text": [
      "Started analysis of amp_res_1.fastq\n",
      "Approx 5% complete for amp_res_1.fastq\n",
      "Approx 10% complete for amp_res_1.fastq\n",
      "Approx 15% complete for amp_res_1.fastq\n",
      "Approx 20% complete for amp_res_1.fastq\n",
      "Approx 25% complete for amp_res_1.fastq\n",
      "Approx 30% complete for amp_res_1.fastq\n",
      "Approx 35% complete for amp_res_1.fastq\n",
      "Approx 40% complete for amp_res_1.fastq\n",
      "Approx 45% complete for amp_res_1.fastq\n",
      "Approx 50% complete for amp_res_1.fastq\n",
      "Approx 55% complete for amp_res_1.fastq\n",
      "Approx 60% complete for amp_res_1.fastq\n",
      "Approx 65% complete for amp_res_1.fastq\n",
      "Approx 70% complete for amp_res_1.fastq\n",
      "Approx 75% complete for amp_res_1.fastq\n",
      "Approx 80% complete for amp_res_1.fastq\n",
      "Approx 85% complete for amp_res_1.fastq\n",
      "Approx 90% complete for amp_res_1.fastq\n",
      "Approx 95% complete for amp_res_1.fastq\n"
     ]
    },
    {
     "name": "stdout",
     "output_type": "stream",
     "text": [
      "Analysis complete for amp_res_1.fastq\n"
     ]
    },
    {
     "name": "stderr",
     "output_type": "stream",
     "text": [
      "Started analysis of amp_res_2.fastq\n",
      "Approx 5% complete for amp_res_2.fastq\n",
      "Approx 10% complete for amp_res_2.fastq\n",
      "Approx 15% complete for amp_res_2.fastq\n",
      "Approx 20% complete for amp_res_2.fastq\n",
      "Approx 25% complete for amp_res_2.fastq\n",
      "Approx 30% complete for amp_res_2.fastq\n",
      "Approx 35% complete for amp_res_2.fastq\n",
      "Approx 40% complete for amp_res_2.fastq\n",
      "Approx 45% complete for amp_res_2.fastq\n",
      "Approx 50% complete for amp_res_2.fastq\n",
      "Approx 55% complete for amp_res_2.fastq\n",
      "Approx 60% complete for amp_res_2.fastq\n",
      "Approx 65% complete for amp_res_2.fastq\n",
      "Approx 70% complete for amp_res_2.fastq\n",
      "Approx 75% complete for amp_res_2.fastq\n",
      "Approx 80% complete for amp_res_2.fastq\n",
      "Approx 85% complete for amp_res_2.fastq\n",
      "Approx 90% complete for amp_res_2.fastq\n",
      "Approx 95% complete for amp_res_2.fastq\n"
     ]
    },
    {
     "name": "stdout",
     "output_type": "stream",
     "text": [
      "Analysis complete for amp_res_2.fastq\n"
     ]
    }
   ],
   "source": [
    "%%bash\n",
    "\n",
    "/home/fpolyakov/trans_meta/homework2/soft/FastQC/fastqc \\\n",
    "-o /home/fpolyakov/trans_meta/homework2/results/ \\\n",
    "/home/fpolyakov/trans_meta/homework2/raw_data/amp_res_1.fastq \\\n",
    "/home/fpolyakov/trans_meta/homework2/raw_data/amp_res_2.fastq"
   ]
  },
  {
   "cell_type": "code",
   "execution_count": null,
   "id": "0d1ae2e4-c76b-427b-a327-5c8d1a538779",
   "metadata": {},
   "outputs": [],
   "source": []
  },
  {
   "cell_type": "code",
   "execution_count": null,
   "id": "d95c5506-d0d5-46b8-ad98-f4350346e92c",
   "metadata": {},
   "outputs": [],
   "source": []
  },
  {
   "cell_type": "code",
   "execution_count": null,
   "id": "d66bd7f7-11e0-4244-a919-9d5aaf6a83c2",
   "metadata": {},
   "outputs": [],
   "source": []
  },
  {
   "cell_type": "code",
   "execution_count": null,
   "id": "5e6baf1d-a4ae-400f-809a-54db39918d00",
   "metadata": {},
   "outputs": [],
   "source": []
  },
  {
   "cell_type": "markdown",
   "id": "4723fb24-2f93-46d7-b801-19a073b56a80",
   "metadata": {},
   "source": [
    "## 3. Running BWA"
   ]
  },
  {
   "cell_type": "code",
   "execution_count": null,
   "id": "a9514e7a-97b1-40e4-9c8e-e87275c4d181",
   "metadata": {},
   "outputs": [],
   "source": []
  },
  {
   "cell_type": "markdown",
   "id": "c61cebb8-5079-4e60-ace2-d837f930abbd",
   "metadata": {},
   "source": [
    "### 3.1. Indexing the reference file"
   ]
  },
  {
   "cell_type": "code",
   "execution_count": 25,
   "id": "d38b0b3b-bb09-4987-8b8f-995df9065e81",
   "metadata": {},
   "outputs": [
    {
     "name": "stdout",
     "output_type": "stream",
     "text": [
      "[bwa_index] Pack FASTA... 0.05 sec\n",
      "[bwa_index] Construct BWT for the packed sequence...\n",
      "[bwa_index] 1.00 seconds elapse.\n",
      "[bwa_index] Update BWT... 0.02 sec\n",
      "[bwa_index] Pack forward-only FASTA... 0.02 sec\n",
      "[bwa_index] Construct SA from BWT and Occ... 0.41 sec\n",
      "[main] Version: 0.7.17-r1198-dirty\n",
      "[main] CMD: /home/fpolyakov/trans_meta/homework2/soft/bwa/bwa index GCF_000005845.2_ASM584v2_genomic.fna\n",
      "[main] Real time: 1.676 sec; CPU: 1.512 sec\n"
     ]
    }
   ],
   "source": [
    "!/home/fpolyakov/trans_meta/homework2/soft/bwa/bwa index GCF_000005845.2_ASM584v2_genomic.fna"
   ]
  },
  {
   "cell_type": "code",
   "execution_count": 27,
   "id": "83673679-556a-4a47-9e48-adecf2cc86f1",
   "metadata": {},
   "outputs": [
    {
     "name": "stdout",
     "output_type": "stream",
     "text": [
      "amp_res_1.fastq\n",
      "amp_res_2.fastq\n",
      "GCF_000005845.2_ASM584v2_genomic.fna\n",
      "GCF_000005845.2_ASM584v2_genomic.fna.amb\n",
      "GCF_000005845.2_ASM584v2_genomic.fna.ann\n",
      "GCF_000005845.2_ASM584v2_genomic.fna.bwt\n",
      "GCF_000005845.2_ASM584v2_genomic.fna.pac\n",
      "GCF_000005845.2_ASM584v2_genomic.fna.sa\n",
      "GCF_000005845.2_ASM584v2_genomic.gff\n"
     ]
    }
   ],
   "source": [
    "!ls"
   ]
  },
  {
   "cell_type": "code",
   "execution_count": null,
   "id": "791baec6-379e-433b-92fa-1253bd20290e",
   "metadata": {},
   "outputs": [],
   "source": []
  },
  {
   "cell_type": "code",
   "execution_count": null,
   "id": "6de974d4-9dac-43ef-908e-88f2c0116d16",
   "metadata": {},
   "outputs": [],
   "source": []
  },
  {
   "cell_type": "markdown",
   "id": "f063e8e7-868c-4c42-91dd-168966de839c",
   "metadata": {},
   "source": [
    "### 3.2. Aligning reads"
   ]
  },
  {
   "cell_type": "code",
   "execution_count": 29,
   "id": "f4197b11-541c-4a98-ac11-c2912b598abd",
   "metadata": {},
   "outputs": [
    {
     "name": "stderr",
     "output_type": "stream",
     "text": [
      "[M::bwa_idx_load_from_disk] read 0 ALT contigs\n",
      "[M::process] read 99010 sequences (10000010 bp)...\n",
      "[M::process] read 99010 sequences (10000010 bp)...\n",
      "[M::mem_pestat] # candidate unique pairs for (FF, FR, RF, RR): (6, 47869, 0, 15)\n",
      "[M::mem_pestat] skip orientation FF as there are not enough pairs\n",
      "[M::mem_pestat] analyzing insert size distribution for orientation FR...\n",
      "[M::mem_pestat] (25, 50, 75) percentile: (146, 185, 231)\n",
      "[M::mem_pestat] low and high boundaries for computing mean and std.dev: (1, 401)\n",
      "[M::mem_pestat] mean and std.dev: (190.00, 63.93)\n",
      "[M::mem_pestat] low and high boundaries for proper pairs: (1, 486)\n",
      "[M::mem_pestat] skip orientation RF as there are not enough pairs\n",
      "[M::mem_pestat] analyzing insert size distribution for orientation RR...\n",
      "[M::mem_pestat] (25, 50, 75) percentile: (120, 158, 1540)\n",
      "[M::mem_pestat] low and high boundaries for computing mean and std.dev: (1, 4380)\n",
      "[M::mem_pestat] mean and std.dev: (568.27, 721.54)\n",
      "[M::mem_pestat] low and high boundaries for proper pairs: (1, 5800)\n",
      "[M::mem_pestat] skip orientation RR\n",
      "[M::mem_process_seqs] Processed 99010 reads in 2.706 CPU sec, 2.575 real sec\n",
      "[M::process] read 99010 sequences (10000010 bp)...\n",
      "[M::mem_pestat] # candidate unique pairs for (FF, FR, RF, RR): (12, 47732, 0, 16)\n",
      "[M::mem_pestat] analyzing insert size distribution for orientation FF...\n",
      "[M::mem_pestat] (25, 50, 75) percentile: (94, 160, 366)\n",
      "[M::mem_pestat] low and high boundaries for computing mean and std.dev: (1, 910)\n",
      "[M::mem_pestat] mean and std.dev: (158.20, 114.31)\n",
      "[M::mem_pestat] low and high boundaries for proper pairs: (1, 1182)\n",
      "[M::mem_pestat] analyzing insert size distribution for orientation FR...\n",
      "[M::mem_pestat] (25, 50, 75) percentile: (143, 182, 228)\n",
      "[M::mem_pestat] low and high boundaries for computing mean and std.dev: (1, 398)\n",
      "[M::mem_pestat] mean and std.dev: (187.30, 62.99)\n",
      "[M::mem_pestat] low and high boundaries for proper pairs: (1, 483)\n",
      "[M::mem_pestat] skip orientation RF as there are not enough pairs\n",
      "[M::mem_pestat] analyzing insert size distribution for orientation RR...\n",
      "[M::mem_pestat] (25, 50, 75) percentile: (91, 176, 1784)\n",
      "[M::mem_pestat] low and high boundaries for computing mean and std.dev: (1, 5170)\n",
      "[M::mem_pestat] mean and std.dev: (569.50, 720.58)\n",
      "[M::mem_pestat] low and high boundaries for proper pairs: (1, 6863)\n",
      "[M::mem_pestat] skip orientation FF\n",
      "[M::mem_pestat] skip orientation RR\n",
      "[M::mem_process_seqs] Processed 99010 reads in 2.776 CPU sec, 2.650 real sec\n",
      "[M::process] read 99010 sequences (10000010 bp)...\n",
      "[M::mem_pestat] # candidate unique pairs for (FF, FR, RF, RR): (7, 47846, 0, 10)\n",
      "[M::mem_pestat] skip orientation FF as there are not enough pairs\n",
      "[M::mem_pestat] analyzing insert size distribution for orientation FR...\n",
      "[M::mem_pestat] (25, 50, 75) percentile: (143, 183, 228)\n",
      "[M::mem_pestat] low and high boundaries for computing mean and std.dev: (1, 398)\n",
      "[M::mem_pestat] mean and std.dev: (187.52, 63.27)\n",
      "[M::mem_pestat] low and high boundaries for proper pairs: (1, 483)\n",
      "[M::mem_pestat] skip orientation RF as there are not enough pairs\n",
      "[M::mem_pestat] analyzing insert size distribution for orientation RR...\n",
      "[M::mem_pestat] (25, 50, 75) percentile: (62, 104, 192)\n",
      "[M::mem_pestat] low and high boundaries for computing mean and std.dev: (1, 452)\n",
      "[M::mem_pestat] mean and std.dev: (118.89, 64.32)\n",
      "[M::mem_pestat] low and high boundaries for proper pairs: (1, 582)\n",
      "[M::mem_pestat] skip orientation RR\n",
      "[M::mem_process_seqs] Processed 99010 reads in 2.763 CPU sec, 2.625 real sec\n",
      "[M::process] read 99010 sequences (10000010 bp)...\n",
      "[M::mem_pestat] # candidate unique pairs for (FF, FR, RF, RR): (9, 47831, 0, 9)\n",
      "[M::mem_pestat] skip orientation FF as there are not enough pairs\n",
      "[M::mem_pestat] analyzing insert size distribution for orientation FR...\n",
      "[M::mem_pestat] (25, 50, 75) percentile: (143, 183, 229)\n",
      "[M::mem_pestat] low and high boundaries for computing mean and std.dev: (1, 401)\n",
      "[M::mem_pestat] mean and std.dev: (187.73, 63.63)\n",
      "[M::mem_pestat] low and high boundaries for proper pairs: (1, 487)\n",
      "[M::mem_pestat] skip orientation RF as there are not enough pairs\n",
      "[M::mem_pestat] skip orientation RR as there are not enough pairs\n",
      "[M::mem_process_seqs] Processed 99010 reads in 2.794 CPU sec, 2.684 real sec\n",
      "[M::process] read 99010 sequences (10000010 bp)...\n",
      "[M::mem_pestat] # candidate unique pairs for (FF, FR, RF, RR): (7, 47882, 0, 8)\n",
      "[M::mem_pestat] skip orientation FF as there are not enough pairs\n",
      "[M::mem_pestat] analyzing insert size distribution for orientation FR...\n",
      "[M::mem_pestat] (25, 50, 75) percentile: (143, 183, 228)\n",
      "[M::mem_pestat] low and high boundaries for computing mean and std.dev: (1, 398)\n",
      "[M::mem_pestat] mean and std.dev: (187.71, 63.16)\n",
      "[M::mem_pestat] low and high boundaries for proper pairs: (1, 483)\n",
      "[M::mem_pestat] skip orientation RF as there are not enough pairs\n",
      "[M::mem_pestat] skip orientation RR as there are not enough pairs\n",
      "[M::mem_process_seqs] Processed 99010 reads in 2.612 CPU sec, 2.506 real sec\n",
      "[M::process] read 99010 sequences (10000010 bp)...\n",
      "[M::mem_pestat] # candidate unique pairs for (FF, FR, RF, RR): (11, 47812, 0, 6)\n",
      "[M::mem_pestat] analyzing insert size distribution for orientation FF...\n",
      "[M::mem_pestat] (25, 50, 75) percentile: (77, 83, 174)\n",
      "[M::mem_pestat] low and high boundaries for computing mean and std.dev: (1, 368)\n",
      "[M::mem_pestat] mean and std.dev: (87.67, 34.52)\n",
      "[M::mem_pestat] low and high boundaries for proper pairs: (1, 465)\n",
      "[M::mem_pestat] analyzing insert size distribution for orientation FR...\n",
      "[M::mem_pestat] (25, 50, 75) percentile: (145, 185, 231)\n",
      "[M::mem_pestat] low and high boundaries for computing mean and std.dev: (1, 403)\n",
      "[M::mem_pestat] mean and std.dev: (189.71, 63.93)\n",
      "[M::mem_pestat] low and high boundaries for proper pairs: (1, 489)\n",
      "[M::mem_pestat] skip orientation RF as there are not enough pairs\n",
      "[M::mem_pestat] skip orientation RR as there are not enough pairs\n",
      "[M::mem_pestat] skip orientation FF\n",
      "[M::mem_process_seqs] Processed 99010 reads in 2.761 CPU sec, 2.624 real sec\n",
      "[M::process] read 99010 sequences (10000010 bp)...\n",
      "[M::mem_pestat] # candidate unique pairs for (FF, FR, RF, RR): (13, 47686, 0, 9)\n",
      "[M::mem_pestat] analyzing insert size distribution for orientation FF...\n",
      "[M::mem_pestat] (25, 50, 75) percentile: (80, 126, 172)\n",
      "[M::mem_pestat] low and high boundaries for computing mean and std.dev: (1, 356)\n",
      "[M::mem_pestat] mean and std.dev: (120.54, 55.48)\n",
      "[M::mem_pestat] low and high boundaries for proper pairs: (1, 448)\n",
      "[M::mem_pestat] analyzing insert size distribution for orientation FR...\n",
      "[M::mem_pestat] (25, 50, 75) percentile: (142, 182, 227)\n",
      "[M::mem_pestat] low and high boundaries for computing mean and std.dev: (1, 397)\n",
      "[M::mem_pestat] mean and std.dev: (186.31, 62.62)\n",
      "[M::mem_pestat] low and high boundaries for proper pairs: (1, 482)\n",
      "[M::mem_pestat] skip orientation RF as there are not enough pairs\n",
      "[M::mem_pestat] skip orientation RR as there are not enough pairs\n",
      "[M::mem_pestat] skip orientation FF\n",
      "[M::mem_process_seqs] Processed 99010 reads in 2.932 CPU sec, 2.796 real sec\n",
      "[M::process] read 99010 sequences (10000010 bp)...\n",
      "[M::mem_pestat] # candidate unique pairs for (FF, FR, RF, RR): (8, 47831, 0, 11)\n",
      "[M::mem_pestat] skip orientation FF as there are not enough pairs\n",
      "[M::mem_pestat] analyzing insert size distribution for orientation FR...\n",
      "[M::mem_pestat] (25, 50, 75) percentile: (145, 185, 231)\n",
      "[M::mem_pestat] low and high boundaries for computing mean and std.dev: (1, 403)\n",
      "[M::mem_pestat] mean and std.dev: (189.71, 63.93)\n",
      "[M::mem_pestat] low and high boundaries for proper pairs: (1, 489)\n",
      "[M::mem_pestat] skip orientation RF as there are not enough pairs\n",
      "[M::mem_pestat] analyzing insert size distribution for orientation RR...\n",
      "[M::mem_pestat] (25, 50, 75) percentile: (71, 152, 325)\n",
      "[M::mem_pestat] low and high boundaries for computing mean and std.dev: (1, 833)\n",
      "[M::mem_pestat] mean and std.dev: (135.33, 101.09)\n",
      "[M::mem_pestat] low and high boundaries for proper pairs: (1, 1087)\n",
      "[M::mem_pestat] skip orientation RR\n",
      "[M::mem_process_seqs] Processed 99010 reads in 3.056 CPU sec, 2.956 real sec\n",
      "[M::process] read 20662 sequences (2086862 bp)...\n",
      "[M::mem_pestat] # candidate unique pairs for (FF, FR, RF, RR): (11, 47872, 0, 6)\n",
      "[M::mem_pestat] analyzing insert size distribution for orientation FF...\n",
      "[M::mem_pestat] (25, 50, 75) percentile: (65, 72, 135)\n",
      "[M::mem_pestat] low and high boundaries for computing mean and std.dev: (1, 275)\n",
      "[M::mem_pestat] mean and std.dev: (83.10, 46.84)\n",
      "[M::mem_pestat] low and high boundaries for proper pairs: (1, 345)\n",
      "[M::mem_pestat] analyzing insert size distribution for orientation FR...\n",
      "[M::mem_pestat] (25, 50, 75) percentile: (143, 182, 229)\n",
      "[M::mem_pestat] low and high boundaries for computing mean and std.dev: (1, 401)\n",
      "[M::mem_pestat] mean and std.dev: (187.60, 63.49)\n",
      "[M::mem_pestat] low and high boundaries for proper pairs: (1, 487)\n",
      "[M::mem_pestat] skip orientation RF as there are not enough pairs\n",
      "[M::mem_pestat] skip orientation RR as there are not enough pairs\n",
      "[M::mem_pestat] skip orientation FF\n",
      "[M::mem_process_seqs] Processed 99010 reads in 2.651 CPU sec, 2.589 real sec\n",
      "[M::mem_pestat] # candidate unique pairs for (FF, FR, RF, RR): (2, 9963, 0, 3)\n",
      "[M::mem_pestat] skip orientation FF as there are not enough pairs\n",
      "[M::mem_pestat] analyzing insert size distribution for orientation FR...\n",
      "[M::mem_pestat] (25, 50, 75) percentile: (142, 179, 223)\n",
      "[M::mem_pestat] low and high boundaries for computing mean and std.dev: (1, 385)\n",
      "[M::mem_pestat] mean and std.dev: (184.44, 61.03)\n",
      "[M::mem_pestat] low and high boundaries for proper pairs: (1, 466)\n",
      "[M::mem_pestat] skip orientation RF as there are not enough pairs\n",
      "[M::mem_pestat] skip orientation RR as there are not enough pairs\n",
      "[M::mem_process_seqs] Processed 20662 reads in 0.620 CPU sec, 0.561 real sec\n",
      "[main] Version: 0.7.17-r1198-dirty\n",
      "[main] CMD: /home/fpolyakov/trans_meta/homework2/soft/bwa/bwa mem /home/fpolyakov/trans_meta/homework2/raw_data/GCF_000005845.2_ASM584v2_genomic.fna /home/fpolyakov/trans_meta/homework2/raw_data/amp_res_1.fastq /home/fpolyakov/trans_meta/homework2/raw_data/amp_res_2.fastq\n",
      "[main] Real time: 25.198 sec; CPU: 25.838 sec\n"
     ]
    }
   ],
   "source": [
    "%%bash\n",
    "\n",
    "/home/fpolyakov/trans_meta/homework2/soft/bwa/bwa mem \\\n",
    "/home/fpolyakov/trans_meta/homework2/raw_data/GCF_000005845.2_ASM584v2_genomic.fna \\\n",
    "/home/fpolyakov/trans_meta/homework2/raw_data/amp_res_1.fastq \\\n",
    "/home/fpolyakov/trans_meta/homework2/raw_data/amp_res_2.fastq \\\n",
    "> alignment.sam"
   ]
  },
  {
   "cell_type": "code",
   "execution_count": null,
   "id": "f42986d0-8e31-49b3-9037-483b43592ee2",
   "metadata": {},
   "outputs": [],
   "source": []
  },
  {
   "cell_type": "code",
   "execution_count": null,
   "id": "22fe24f7-f0fd-4f44-bc40-368ac1820c5c",
   "metadata": {},
   "outputs": [],
   "source": []
  },
  {
   "cell_type": "markdown",
   "id": "c8375834-b0f8-4677-b554-25ac44c267ed",
   "metadata": {},
   "source": [
    "### 3.3. Compressing SAM file"
   ]
  },
  {
   "cell_type": "code",
   "execution_count": 31,
   "id": "f97c0c06-9103-459f-9eb3-36e145c48c84",
   "metadata": {},
   "outputs": [],
   "source": [
    "# converting sam to bam\n",
    "\n",
    "!/home/fpolyakov/trans_meta/homework2/soft/samtools-1.18/samtools view -S -b alignment.sam > alignment.bam "
   ]
  },
  {
   "cell_type": "code",
   "execution_count": null,
   "id": "ee6137d7-ac06-46b8-b182-0497d8e5ac53",
   "metadata": {},
   "outputs": [],
   "source": []
  },
  {
   "cell_type": "code",
   "execution_count": 32,
   "id": "5b52c17e-35ac-4305-bed3-7af02541738d",
   "metadata": {},
   "outputs": [
    {
     "name": "stdout",
     "output_type": "stream",
     "text": [
      "912095 + 0 in total (QC-passed reads + QC-failed reads)\n",
      "911752 + 0 primary\n",
      "0 + 0 secondary\n",
      "343 + 0 supplementary\n",
      "0 + 0 duplicates\n",
      "0 + 0 primary duplicates\n",
      "910940 + 0 mapped (99.87% : N/A)\n",
      "910597 + 0 primary mapped (99.87% : N/A)\n",
      "911752 + 0 paired in sequencing\n",
      "455876 + 0 read1\n",
      "455876 + 0 read2\n",
      "907476 + 0 properly paired (99.53% : N/A)\n",
      "909488 + 0 with itself and mate mapped\n",
      "1109 + 0 singletons (0.12% : N/A)\n",
      "0 + 0 with mate mapped to a different chr\n",
      "0 + 0 with mate mapped to a different chr (mapQ>=5)\n"
     ]
    }
   ],
   "source": [
    "# getting some stats\n",
    "\n",
    "!/home/fpolyakov/trans_meta/homework2/soft/samtools-1.18/samtools flagstat alignment.bam"
   ]
  },
  {
   "cell_type": "code",
   "execution_count": null,
   "id": "41410acd-5cc7-4508-8bfe-a2b595fc5214",
   "metadata": {},
   "outputs": [],
   "source": []
  },
  {
   "cell_type": "markdown",
   "id": "ae99b46a-01ec-4438-b6eb-929b78fde002",
   "metadata": {},
   "source": [
    "#### We can see that 99.87% of reads successfully mapped"
   ]
  },
  {
   "cell_type": "code",
   "execution_count": null,
   "id": "a9dcbdef-a10f-4399-a45f-8efbd934c13e",
   "metadata": {},
   "outputs": [],
   "source": []
  },
  {
   "cell_type": "code",
   "execution_count": null,
   "id": "e9705f52-a744-4d00-9a1a-ddbec99da594",
   "metadata": {},
   "outputs": [],
   "source": []
  },
  {
   "cell_type": "code",
   "execution_count": null,
   "id": "f27a712e-2cae-4179-94c6-232dfabb5e19",
   "metadata": {},
   "outputs": [],
   "source": []
  },
  {
   "cell_type": "markdown",
   "id": "a3d73a25-ae32-4e9c-8194-76fd0af6b7b0",
   "metadata": {
    "tags": []
   },
   "source": [
    "### 3.4. Sorting and indexing BAM file"
   ]
  },
  {
   "cell_type": "code",
   "execution_count": null,
   "id": "06f6204a-aba2-4e85-bb60-230f3f44bdad",
   "metadata": {},
   "outputs": [],
   "source": []
  },
  {
   "cell_type": "markdown",
   "id": "22237c45-bb73-466f-a931-cabbfff2f145",
   "metadata": {},
   "source": [
    "#### 3.4.1. Sorting bam file by sequence coordinate on reference\n"
   ]
  },
  {
   "cell_type": "code",
   "execution_count": 33,
   "id": "532ed333-9295-4097-9336-b77f8d9ac741",
   "metadata": {},
   "outputs": [],
   "source": [
    "!/home/fpolyakov/trans_meta/homework2/soft/samtools-1.18/samtools sort alignment.bam -o alignment_sorted.bam"
   ]
  },
  {
   "cell_type": "code",
   "execution_count": null,
   "id": "738127ba-7bba-4983-bf52-853adb9dffb8",
   "metadata": {},
   "outputs": [],
   "source": []
  },
  {
   "cell_type": "markdown",
   "id": "29b16f59-b765-4621-82c3-8cbd60d3f930",
   "metadata": {},
   "source": [
    "#### 3.4.2. Indexing BAM file for faster search"
   ]
  },
  {
   "cell_type": "code",
   "execution_count": 34,
   "id": "60ea3eec-5dfe-43c4-b4db-a071be4caa8b",
   "metadata": {},
   "outputs": [],
   "source": [
    "!/home/fpolyakov/trans_meta/homework2/soft/samtools-1.18/samtools index alignment_sorted.bam"
   ]
  },
  {
   "cell_type": "code",
   "execution_count": null,
   "id": "9f939cae-6a75-4888-85d9-76d49346b9c9",
   "metadata": {},
   "outputs": [],
   "source": []
  },
  {
   "cell_type": "code",
   "execution_count": null,
   "id": "35c58e5b-caab-4804-a7f7-e0ffa8687198",
   "metadata": {},
   "outputs": [],
   "source": []
  },
  {
   "cell_type": "code",
   "execution_count": null,
   "id": "c0605909-5a4a-46c8-95a0-1e6bedab9256",
   "metadata": {},
   "outputs": [],
   "source": []
  },
  {
   "cell_type": "markdown",
   "id": "393b7508-24d5-43bd-8408-3ad2676968e7",
   "metadata": {},
   "source": [
    "## 4. Variant calling"
   ]
  },
  {
   "cell_type": "code",
   "execution_count": null,
   "id": "0d91e70c-17ca-4142-a478-464979fe7635",
   "metadata": {},
   "outputs": [],
   "source": []
  },
  {
   "cell_type": "markdown",
   "id": "c793b21d-fc4d-42d6-a851-410e9c2f51e1",
   "metadata": {},
   "source": [
    "### 4.1. Creating intermediate file"
   ]
  },
  {
   "cell_type": "code",
   "execution_count": 36,
   "id": "041431a9-3b82-48d1-b2b5-7f1d574a1d7f",
   "metadata": {},
   "outputs": [
    {
     "name": "stdout",
     "output_type": "stream",
     "text": [
      "[mpileup] 1 samples in 1 input files\n"
     ]
    }
   ],
   "source": [
    "!/home/fpolyakov/trans_meta/homework2/soft/samtools-1.18/samtools mpileup -f /home/fpolyakov/trans_meta/homework2/raw_data/GCF_000005845.2_ASM584v2_genomic.fna alignment_sorted.bam >  my.mpileup"
   ]
  },
  {
   "cell_type": "code",
   "execution_count": 37,
   "id": "8fd34773-952d-4958-9fcf-c39f5ef8c9b6",
   "metadata": {},
   "outputs": [],
   "source": [
    "os.chdir('/home/fpolyakov/trans_meta/homework2/soft/varscan/')"
   ]
  },
  {
   "cell_type": "code",
   "execution_count": null,
   "id": "02b5fdb4-ee3d-4b9d-b55a-9011779131d5",
   "metadata": {},
   "outputs": [],
   "source": []
  },
  {
   "cell_type": "code",
   "execution_count": null,
   "id": "d7e45f1e-f799-4a74-a5a3-cdecb94bb01e",
   "metadata": {},
   "outputs": [],
   "source": []
  },
  {
   "cell_type": "markdown",
   "id": "abed484f-cf15-4f65-85da-45d2c542b36b",
   "metadata": {},
   "source": [
    "### 4.2. VarScan analysis"
   ]
  },
  {
   "cell_type": "code",
   "execution_count": 38,
   "id": "379e600b-fd2b-4207-b386-0cc9e4a4a4ac",
   "metadata": {},
   "outputs": [
    {
     "name": "stdout",
     "output_type": "stream",
     "text": [
      "Only SNPs will be reported\n",
      "Warning: No p-value threshold provided, so p-values will not be calculated\n",
      "Min coverage:\t8\n",
      "Min reads2:\t2\n",
      "Min var freq:\t0.05\n",
      "Min avg qual:\t15\n",
      "P-value thresh:\t0.01\n",
      "Reading input from /home/fpolyakov/trans_meta/homework2/raw_data/my.mpileup\n",
      "4641524 bases in pileup file\n",
      "9 variant positions (6 SNP, 3 indel)\n",
      "0 were failed by the strand-filter\n",
      "6 variant positions reported (6 SNP, 0 indel)\n"
     ]
    }
   ],
   "source": [
    "!java -jar VarScan.v2.4.0.jar mpileup2snp /home/fpolyakov/trans_meta/homework2/raw_data/my.mpileup --min-var-freq 0.05 --variants --output-vcf 1 > VarScan_results.vcf\n"
   ]
  },
  {
   "cell_type": "code",
   "execution_count": null,
   "id": "a632e7c7-f923-43c8-ba8f-921d3afc54b7",
   "metadata": {},
   "outputs": [],
   "source": []
  },
  {
   "cell_type": "code",
   "execution_count": null,
   "id": "88472060-e897-4b2c-a0a8-bf86c61e2113",
   "metadata": {},
   "outputs": [],
   "source": []
  },
  {
   "cell_type": "markdown",
   "id": "4d028430-86c3-4b69-9109-40daf7d1e3fe",
   "metadata": {},
   "source": [
    "## 5. Post-analysis"
   ]
  },
  {
   "cell_type": "code",
   "execution_count": null,
   "id": "2237c28e-07c8-4371-9135-ad58668f8ae7",
   "metadata": {},
   "outputs": [],
   "source": []
  },
  {
   "cell_type": "markdown",
   "id": "bd08bcd4-14d7-443a-981c-501b999de7c0",
   "metadata": {},
   "source": [
    "### The rest work was done manually using terminal"
   ]
  }
 ],
 "metadata": {
  "kernelspec": {
   "display_name": "Python [conda env:.conda-main]",
   "language": "python",
   "name": "conda-env-.conda-main-py"
  },
  "language_info": {
   "codemirror_mode": {
    "name": "ipython",
    "version": 3
   },
   "file_extension": ".py",
   "mimetype": "text/x-python",
   "name": "python",
   "nbconvert_exporter": "python",
   "pygments_lexer": "ipython3",
   "version": "3.10.9"
  }
 },
 "nbformat": 4,
 "nbformat_minor": 5
}
