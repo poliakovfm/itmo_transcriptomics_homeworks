{
  "nbformat": 4,
  "nbformat_minor": 0,
  "metadata": {
    "colab": {
      "provenance": [],
      "authorship_tag": "ABX9TyM/fZqHXPjxJg+vwF4Naf6I",
      "include_colab_link": true
    },
    "kernelspec": {
      "name": "python3",
      "display_name": "Python 3"
    },
    "language_info": {
      "name": "python"
    }
  },
  "cells": [
    {
      "cell_type": "markdown",
      "metadata": {
        "id": "view-in-github",
        "colab_type": "text"
      },
      "source": [
        "<a href=\"https://colab.research.google.com/github/poliakovfm/itmo_transcriptomics_homeworks/blob/main/HW1_Trans_Meta.ipynb\" target=\"_parent\"><img src=\"https://colab.research.google.com/assets/colab-badge.svg\" alt=\"Open In Colab\"/></a>"
      ]
    },
    {
      "cell_type": "code",
      "source": [],
      "metadata": {
        "id": "2f-D9UkmJB2i"
      },
      "execution_count": null,
      "outputs": []
    },
    {
      "cell_type": "markdown",
      "source": [
        "# Homework 1 for \"Transcriptomics and metagenomics\" course\n"
      ],
      "metadata": {
        "id": "kLW67NbDHJc0"
      }
    },
    {
      "cell_type": "markdown",
      "source": [
        "#### [Assignment description](https://docs.google.com/document/d/1B4RiAuhA68TXJIHcmr7iTW-8G0tbsVeoYFQLSXbjBDY/edit)"
      ],
      "metadata": {
        "id": "kGBZtyQtHwEJ"
      }
    },
    {
      "cell_type": "code",
      "source": [],
      "metadata": {
        "id": "CaMU1htUI_MO"
      },
      "execution_count": null,
      "outputs": []
    },
    {
      "cell_type": "code",
      "source": [],
      "metadata": {
        "id": "ejf1mOdVHG8R"
      },
      "execution_count": null,
      "outputs": []
    },
    {
      "cell_type": "markdown",
      "source": [
        "# 0. Installing required packages and tools"
      ],
      "metadata": {
        "id": "rnMlELphIdsj"
      }
    },
    {
      "cell_type": "code",
      "source": [],
      "metadata": {
        "id": "FW1B2Ry2IcUJ"
      },
      "execution_count": null,
      "outputs": []
    },
    {
      "cell_type": "markdown",
      "source": [
        "#### 0.1. Installing Biopython"
      ],
      "metadata": {
        "id": "A8S-lW-1L0s2"
      }
    },
    {
      "cell_type": "code",
      "source": [
        "!pip install biopython"
      ],
      "metadata": {
        "colab": {
          "base_uri": "https://localhost:8080/"
        },
        "id": "3opLx6nzLzA4",
        "outputId": "521155cf-3f79-4171-c2d2-175043ed167b"
      },
      "execution_count": 1,
      "outputs": [
        {
          "output_type": "stream",
          "name": "stdout",
          "text": [
            "Requirement already satisfied: biopython in /usr/local/lib/python3.10/site-packages (1.81)\n",
            "Requirement already satisfied: numpy in /usr/local/lib/python3.10/site-packages (from biopython) (1.26.0)\n",
            "\u001b[33mWARNING: Running pip as the 'root' user can result in broken permissions and conflicting behaviour with the system package manager. It is recommended to use a virtual environment instead: https://pip.pypa.io/warnings/venv\u001b[0m\u001b[33m\n",
            "\u001b[0m"
          ]
        }
      ]
    },
    {
      "cell_type": "code",
      "source": [],
      "metadata": {
        "id": "xuHFdUUOLyuH"
      },
      "execution_count": 1,
      "outputs": []
    },
    {
      "cell_type": "markdown",
      "source": [
        "#### 0.2. Installing QUAST"
      ],
      "metadata": {
        "id": "pVk_dCg4JSun"
      }
    },
    {
      "cell_type": "code",
      "source": [
        "!git clone https://github.com/ablab/quast.git"
      ],
      "metadata": {
        "colab": {
          "base_uri": "https://localhost:8080/"
        },
        "id": "KJnC4sOBHG3u",
        "outputId": "5d317540-f1d3-455c-95e9-956186e2646c"
      },
      "execution_count": 2,
      "outputs": [
        {
          "output_type": "stream",
          "name": "stdout",
          "text": [
            "fatal: destination path 'quast' already exists and is not an empty directory.\n"
          ]
        }
      ]
    },
    {
      "cell_type": "code",
      "source": [],
      "metadata": {
        "id": "e5fCNN1NHGul"
      },
      "execution_count": 2,
      "outputs": []
    },
    {
      "cell_type": "markdown",
      "source": [
        "#### 0.3. Loading required libraries"
      ],
      "metadata": {
        "id": "yIs6C1oFy_66"
      }
    },
    {
      "cell_type": "code",
      "source": [
        "import pandas as pd\n",
        "from Bio import SeqIO\n",
        "from Bio.Blast import NCBIWWW, NCBIXML"
      ],
      "metadata": {
        "id": "FkspVUM1oqTr"
      },
      "execution_count": 3,
      "outputs": []
    },
    {
      "cell_type": "code",
      "source": [
        "from google.colab import drive\n",
        "drive.mount('/content/drive')"
      ],
      "metadata": {
        "colab": {
          "base_uri": "https://localhost:8080/"
        },
        "id": "yRv-vSYgoqC4",
        "outputId": "5196fc34-ff8d-46fb-d0e9-23711e04f114"
      },
      "execution_count": 4,
      "outputs": [
        {
          "output_type": "stream",
          "name": "stdout",
          "text": [
            "Drive already mounted at /content/drive; to attempt to forcibly remount, call drive.mount(\"/content/drive\", force_remount=True).\n"
          ]
        }
      ]
    },
    {
      "cell_type": "code",
      "source": [],
      "metadata": {
        "id": "dv0va8RCa7Ej"
      },
      "execution_count": 4,
      "outputs": []
    },
    {
      "cell_type": "code",
      "source": [],
      "metadata": {
        "id": "TLDegrUUHGk5"
      },
      "execution_count": 4,
      "outputs": []
    },
    {
      "cell_type": "code",
      "source": [],
      "metadata": {
        "id": "-4aHCf_YzOKf"
      },
      "execution_count": 4,
      "outputs": []
    },
    {
      "cell_type": "markdown",
      "source": [
        "# 1. Initial checking of the sequencing data"
      ],
      "metadata": {
        "id": "HaslsNW3Refx"
      }
    },
    {
      "cell_type": "code",
      "source": [],
      "metadata": {
        "id": "CPruxJ0cJqrx"
      },
      "execution_count": 4,
      "outputs": []
    },
    {
      "cell_type": "markdown",
      "source": [
        "### 1.1. Downloading and checking the data assembled with SPAdes assembler"
      ],
      "metadata": {
        "id": "wiF2onRjNzXj"
      }
    },
    {
      "cell_type": "code",
      "source": [
        "k = 0\n",
        "\n",
        "for seq_record in SeqIO.parse(\"/content/drive/MyDrive/HW1_files/spades_scaffolds.fasta\", \"fasta\"):\n",
        "  print(seq_record.id)\n",
        "  print(repr(seq_record.seq))\n",
        "  print(len(seq_record))\n",
        "  k += 1\n",
        "\n",
        "  if k > 5:\n",
        "    break\n",
        ""
      ],
      "metadata": {
        "colab": {
          "base_uri": "https://localhost:8080/"
        },
        "id": "Wdo-hzQMOZFU",
        "outputId": "d3fa2919-2d4f-48da-e53f-1b30211448f0"
      },
      "execution_count": 5,
      "outputs": [
        {
          "output_type": "stream",
          "name": "stdout",
          "text": [
            "NODE_1_length_29907_cov_150.822528\n",
            "Seq('GTGTTTGATTTTTTTTTTTTTTTTTTTTTTTTGTCATTCTCCTAAGAAGCTATT...ATC')\n",
            "29907\n",
            "NODE_2_length_8134_cov_6.182822\n",
            "Seq('CCCTAGTTGCTGAACCAGCGATAACTCCTGTCCCTTTTGAAGCTGGTTTCAATA...GTC')\n",
            "8134\n",
            "NODE_3_length_5584_cov_13759.613946\n",
            "Seq('AAGCCTTCAAGAAGGTGATAAGCAGGAGAAACATACGAAGGCGCATAACGATAC...CTT')\n",
            "5584\n",
            "NODE_4_length_5116_cov_18.119468\n",
            "Seq('TCCGTCAACTCAAGTAACTTATCAACCAAAAGGTCTTTCAAGTCATTTACCTTT...TTT')\n",
            "5116\n",
            "NODE_5_length_4814_cov_12.303145\n",
            "Seq('CCCCATTTTGAATTATGAATTGTGAATTTTGAATTAAAAAAAGGTATAGACTCT...CCC')\n",
            "4814\n",
            "NODE_6_length_4266_cov_43.850322\n",
            "Seq('AGCCACTAAAGTGGTGTTATAGCCCTTTTGTACATGTATAACAATTAAATTAAT...AGC')\n",
            "4266\n"
          ]
        }
      ]
    },
    {
      "cell_type": "code",
      "source": [],
      "metadata": {
        "id": "kLqPLyMgOY8U"
      },
      "execution_count": 5,
      "outputs": []
    },
    {
      "cell_type": "markdown",
      "source": [
        "### 1.2. Running QUAST tool to get basic statistics of our assemblies"
      ],
      "metadata": {
        "id": "RArXnrvLQ6hy"
      }
    },
    {
      "cell_type": "code",
      "source": [
        "# first we pass the path to quast.py, then the output folder and finally the path to .fasta file\n",
        "\n",
        "! python /content/quast/quast.py -o quast_results /content/drive/MyDrive/HW1_files/spades_scaffolds.fasta"
      ],
      "metadata": {
        "colab": {
          "base_uri": "https://localhost:8080/"
        },
        "id": "MCa2UAWKO1y-",
        "outputId": "bf850476-7c20-4575-dd5a-406db4f77c13"
      },
      "execution_count": 6,
      "outputs": [
        {
          "output_type": "stream",
          "name": "stdout",
          "text": [
            "/content/quast/quast.py -o quast_results /content/drive/MyDrive/HW1_files/spades_scaffolds.fasta\n",
            "\n",
            "Version: 5.2.0\n",
            "\n",
            "System information:\n",
            "  OS: Linux-5.15.120+-x86_64-with-glibc2.35 (linux_64)\n",
            "  Python version: 3.10.10\n",
            "  CPUs number: 2\n",
            "\n",
            "Started: 2023-10-03 09:26:44\n",
            "\n",
            "Logging to /content/quast_results/quast.log\n",
            "NOTICE: Output directory already exists and looks like a QUAST output dir. Existing results can be reused (e.g. previously generated alignments)!\n",
            "NOTICE: Maximum number of threads is set to 1 (use --threads option to set it manually)\n",
            "\n",
            "CWD: /content\n",
            "Main parameters: \n",
            "  MODE: default, threads: 1, min contig length: 500, min alignment length: 65, min alignment IDY: 95.0, \\\n",
            "  ambiguity: one, min local misassembly length: 200, min extensive misassembly length: 1000\n",
            "\n",
            "WARNING: Can't draw plots: python-matplotlib is missing or corrupted.\n",
            "\n",
            "Contigs:\n",
            "  Pre-processing...\n",
            "  /content/drive/MyDrive/HW1_files/spades_scaffolds.fasta ==> spades_scaffolds\n",
            "\n",
            "2023-10-03 09:26:46\n",
            "Running Basic statistics processor...\n",
            "  Contig files: \n",
            "    spades_scaffolds\n",
            "  Calculating N50 and L50...\n",
            "    spades_scaffolds, N50 = 779, L50 = 1182, auN = 1351.8, Total length = 2988329, GC % = 45.92, # N's per 100 kbp =  17.37\n",
            "Done.\n",
            "\n",
            "NOTICE: Genes are not predicted by default. Use --gene-finding or --glimmer option to enable it.\n",
            "\n",
            "2023-10-03 09:26:46\n",
            "Creating large visual summaries...\n",
            "This may take a while: press Ctrl-C to skip this step..\n",
            "  1 of 1: Creating Icarus viewers...\n",
            "Done\n",
            "\n",
            "2023-10-03 09:26:46\n",
            "RESULTS:\n",
            "  Text versions of total report are saved to /content/quast_results/report.txt, report.tsv, and report.tex\n",
            "  Text versions of transposed total report are saved to /content/quast_results/transposed_report.txt, transposed_report.tsv, and transposed_report.tex\n",
            "  HTML version (interactive tables and plots) is saved to /content/quast_results/report.html\n",
            "  Icarus (contig browser) is saved to /content/quast_results/icarus.html\n",
            "  Log is saved to /content/quast_results/quast.log\n",
            "\n",
            "Finished: 2023-10-03 09:26:46\n",
            "Elapsed time: 0:00:02.090238\n",
            "NOTICEs: 3; WARNINGs: 1; non-fatal ERRORs: 0\n",
            "\n",
            "Thank you for using QUAST!\n"
          ]
        }
      ]
    },
    {
      "cell_type": "code",
      "source": [],
      "metadata": {
        "id": "ve3-uv3-O1j2"
      },
      "execution_count": 6,
      "outputs": []
    },
    {
      "cell_type": "code",
      "source": [
        "# now we can check the resulting statistics,\n",
        "# including the number of contigs >= 1000 bp (666) and the size of the largest one (29907 bp)\n",
        "\n",
        "quast_results = pd.read_csv(\"/content/quast_results/report.tsv\", sep='\\t')\n",
        "quast_results"
      ],
      "metadata": {
        "colab": {
          "base_uri": "https://localhost:8080/",
          "height": 739
        },
        "id": "_XMtPJY5O1a7",
        "outputId": "c134145b-979d-4fe4-dab7-6481adac11d1"
      },
      "execution_count": 7,
      "outputs": [
        {
          "output_type": "execute_result",
          "data": {
            "text/plain": [
              "                      Assembly  spades_scaffolds\n",
              "0          # contigs (>= 0 bp)         111219.00\n",
              "1       # contigs (>= 1000 bp)            666.00\n",
              "2       # contigs (>= 5000 bp)              4.00\n",
              "3      # contigs (>= 10000 bp)              1.00\n",
              "4      # contigs (>= 25000 bp)              1.00\n",
              "5      # contigs (>= 50000 bp)              0.00\n",
              "6       Total length (>= 0 bp)       27362468.00\n",
              "7    Total length (>= 1000 bp)        1042805.00\n",
              "8    Total length (>= 5000 bp)          48741.00\n",
              "9   Total length (>= 10000 bp)          29907.00\n",
              "10  Total length (>= 25000 bp)          29907.00\n",
              "11  Total length (>= 50000 bp)              0.00\n",
              "12                   # contigs           3667.00\n",
              "13              Largest contig          29907.00\n",
              "14                Total length        2988329.00\n",
              "15                      GC (%)             45.92\n",
              "16                         N50            779.00\n",
              "17                         N90            532.00\n",
              "18                         auN           1351.80\n",
              "19                         L50           1182.00\n",
              "20                         L90           3087.00\n",
              "21           # N's per 100 kbp             17.37"
            ],
            "text/html": [
              "\n",
              "  <div id=\"df-516fa046-e2e6-49c1-9d18-2b32d8402946\" class=\"colab-df-container\">\n",
              "    <div>\n",
              "<style scoped>\n",
              "    .dataframe tbody tr th:only-of-type {\n",
              "        vertical-align: middle;\n",
              "    }\n",
              "\n",
              "    .dataframe tbody tr th {\n",
              "        vertical-align: top;\n",
              "    }\n",
              "\n",
              "    .dataframe thead th {\n",
              "        text-align: right;\n",
              "    }\n",
              "</style>\n",
              "<table border=\"1\" class=\"dataframe\">\n",
              "  <thead>\n",
              "    <tr style=\"text-align: right;\">\n",
              "      <th></th>\n",
              "      <th>Assembly</th>\n",
              "      <th>spades_scaffolds</th>\n",
              "    </tr>\n",
              "  </thead>\n",
              "  <tbody>\n",
              "    <tr>\n",
              "      <th>0</th>\n",
              "      <td># contigs (&gt;= 0 bp)</td>\n",
              "      <td>111219.00</td>\n",
              "    </tr>\n",
              "    <tr>\n",
              "      <th>1</th>\n",
              "      <td># contigs (&gt;= 1000 bp)</td>\n",
              "      <td>666.00</td>\n",
              "    </tr>\n",
              "    <tr>\n",
              "      <th>2</th>\n",
              "      <td># contigs (&gt;= 5000 bp)</td>\n",
              "      <td>4.00</td>\n",
              "    </tr>\n",
              "    <tr>\n",
              "      <th>3</th>\n",
              "      <td># contigs (&gt;= 10000 bp)</td>\n",
              "      <td>1.00</td>\n",
              "    </tr>\n",
              "    <tr>\n",
              "      <th>4</th>\n",
              "      <td># contigs (&gt;= 25000 bp)</td>\n",
              "      <td>1.00</td>\n",
              "    </tr>\n",
              "    <tr>\n",
              "      <th>5</th>\n",
              "      <td># contigs (&gt;= 50000 bp)</td>\n",
              "      <td>0.00</td>\n",
              "    </tr>\n",
              "    <tr>\n",
              "      <th>6</th>\n",
              "      <td>Total length (&gt;= 0 bp)</td>\n",
              "      <td>27362468.00</td>\n",
              "    </tr>\n",
              "    <tr>\n",
              "      <th>7</th>\n",
              "      <td>Total length (&gt;= 1000 bp)</td>\n",
              "      <td>1042805.00</td>\n",
              "    </tr>\n",
              "    <tr>\n",
              "      <th>8</th>\n",
              "      <td>Total length (&gt;= 5000 bp)</td>\n",
              "      <td>48741.00</td>\n",
              "    </tr>\n",
              "    <tr>\n",
              "      <th>9</th>\n",
              "      <td>Total length (&gt;= 10000 bp)</td>\n",
              "      <td>29907.00</td>\n",
              "    </tr>\n",
              "    <tr>\n",
              "      <th>10</th>\n",
              "      <td>Total length (&gt;= 25000 bp)</td>\n",
              "      <td>29907.00</td>\n",
              "    </tr>\n",
              "    <tr>\n",
              "      <th>11</th>\n",
              "      <td>Total length (&gt;= 50000 bp)</td>\n",
              "      <td>0.00</td>\n",
              "    </tr>\n",
              "    <tr>\n",
              "      <th>12</th>\n",
              "      <td># contigs</td>\n",
              "      <td>3667.00</td>\n",
              "    </tr>\n",
              "    <tr>\n",
              "      <th>13</th>\n",
              "      <td>Largest contig</td>\n",
              "      <td>29907.00</td>\n",
              "    </tr>\n",
              "    <tr>\n",
              "      <th>14</th>\n",
              "      <td>Total length</td>\n",
              "      <td>2988329.00</td>\n",
              "    </tr>\n",
              "    <tr>\n",
              "      <th>15</th>\n",
              "      <td>GC (%)</td>\n",
              "      <td>45.92</td>\n",
              "    </tr>\n",
              "    <tr>\n",
              "      <th>16</th>\n",
              "      <td>N50</td>\n",
              "      <td>779.00</td>\n",
              "    </tr>\n",
              "    <tr>\n",
              "      <th>17</th>\n",
              "      <td>N90</td>\n",
              "      <td>532.00</td>\n",
              "    </tr>\n",
              "    <tr>\n",
              "      <th>18</th>\n",
              "      <td>auN</td>\n",
              "      <td>1351.80</td>\n",
              "    </tr>\n",
              "    <tr>\n",
              "      <th>19</th>\n",
              "      <td>L50</td>\n",
              "      <td>1182.00</td>\n",
              "    </tr>\n",
              "    <tr>\n",
              "      <th>20</th>\n",
              "      <td>L90</td>\n",
              "      <td>3087.00</td>\n",
              "    </tr>\n",
              "    <tr>\n",
              "      <th>21</th>\n",
              "      <td># N's per 100 kbp</td>\n",
              "      <td>17.37</td>\n",
              "    </tr>\n",
              "  </tbody>\n",
              "</table>\n",
              "</div>\n",
              "    <div class=\"colab-df-buttons\">\n",
              "\n",
              "  <div class=\"colab-df-container\">\n",
              "    <button class=\"colab-df-convert\" onclick=\"convertToInteractive('df-516fa046-e2e6-49c1-9d18-2b32d8402946')\"\n",
              "            title=\"Convert this dataframe to an interactive table.\"\n",
              "            style=\"display:none;\">\n",
              "\n",
              "  <svg xmlns=\"http://www.w3.org/2000/svg\" height=\"24px\" viewBox=\"0 -960 960 960\">\n",
              "    <path d=\"M120-120v-720h720v720H120Zm60-500h600v-160H180v160Zm220 220h160v-160H400v160Zm0 220h160v-160H400v160ZM180-400h160v-160H180v160Zm440 0h160v-160H620v160ZM180-180h160v-160H180v160Zm440 0h160v-160H620v160Z\"/>\n",
              "  </svg>\n",
              "    </button>\n",
              "\n",
              "  <style>\n",
              "    .colab-df-container {\n",
              "      display:flex;\n",
              "      gap: 12px;\n",
              "    }\n",
              "\n",
              "    .colab-df-convert {\n",
              "      background-color: #E8F0FE;\n",
              "      border: none;\n",
              "      border-radius: 50%;\n",
              "      cursor: pointer;\n",
              "      display: none;\n",
              "      fill: #1967D2;\n",
              "      height: 32px;\n",
              "      padding: 0 0 0 0;\n",
              "      width: 32px;\n",
              "    }\n",
              "\n",
              "    .colab-df-convert:hover {\n",
              "      background-color: #E2EBFA;\n",
              "      box-shadow: 0px 1px 2px rgba(60, 64, 67, 0.3), 0px 1px 3px 1px rgba(60, 64, 67, 0.15);\n",
              "      fill: #174EA6;\n",
              "    }\n",
              "\n",
              "    .colab-df-buttons div {\n",
              "      margin-bottom: 4px;\n",
              "    }\n",
              "\n",
              "    [theme=dark] .colab-df-convert {\n",
              "      background-color: #3B4455;\n",
              "      fill: #D2E3FC;\n",
              "    }\n",
              "\n",
              "    [theme=dark] .colab-df-convert:hover {\n",
              "      background-color: #434B5C;\n",
              "      box-shadow: 0px 1px 3px 1px rgba(0, 0, 0, 0.15);\n",
              "      filter: drop-shadow(0px 1px 2px rgba(0, 0, 0, 0.3));\n",
              "      fill: #FFFFFF;\n",
              "    }\n",
              "  </style>\n",
              "\n",
              "    <script>\n",
              "      const buttonEl =\n",
              "        document.querySelector('#df-516fa046-e2e6-49c1-9d18-2b32d8402946 button.colab-df-convert');\n",
              "      buttonEl.style.display =\n",
              "        google.colab.kernel.accessAllowed ? 'block' : 'none';\n",
              "\n",
              "      async function convertToInteractive(key) {\n",
              "        const element = document.querySelector('#df-516fa046-e2e6-49c1-9d18-2b32d8402946');\n",
              "        const dataTable =\n",
              "          await google.colab.kernel.invokeFunction('convertToInteractive',\n",
              "                                                    [key], {});\n",
              "        if (!dataTable) return;\n",
              "\n",
              "        const docLinkHtml = 'Like what you see? Visit the ' +\n",
              "          '<a target=\"_blank\" href=https://colab.research.google.com/notebooks/data_table.ipynb>data table notebook</a>'\n",
              "          + ' to learn more about interactive tables.';\n",
              "        element.innerHTML = '';\n",
              "        dataTable['output_type'] = 'display_data';\n",
              "        await google.colab.output.renderOutput(dataTable, element);\n",
              "        const docLink = document.createElement('div');\n",
              "        docLink.innerHTML = docLinkHtml;\n",
              "        element.appendChild(docLink);\n",
              "      }\n",
              "    </script>\n",
              "  </div>\n",
              "\n",
              "\n",
              "<div id=\"df-0632f465-a5cd-4091-80e8-6612e960961e\">\n",
              "  <button class=\"colab-df-quickchart\" onclick=\"quickchart('df-0632f465-a5cd-4091-80e8-6612e960961e')\"\n",
              "            title=\"Suggest charts.\"\n",
              "            style=\"display:none;\">\n",
              "\n",
              "<svg xmlns=\"http://www.w3.org/2000/svg\" height=\"24px\"viewBox=\"0 0 24 24\"\n",
              "     width=\"24px\">\n",
              "    <g>\n",
              "        <path d=\"M19 3H5c-1.1 0-2 .9-2 2v14c0 1.1.9 2 2 2h14c1.1 0 2-.9 2-2V5c0-1.1-.9-2-2-2zM9 17H7v-7h2v7zm4 0h-2V7h2v10zm4 0h-2v-4h2v4z\"/>\n",
              "    </g>\n",
              "</svg>\n",
              "  </button>\n",
              "\n",
              "<style>\n",
              "  .colab-df-quickchart {\n",
              "      --bg-color: #E8F0FE;\n",
              "      --fill-color: #1967D2;\n",
              "      --hover-bg-color: #E2EBFA;\n",
              "      --hover-fill-color: #174EA6;\n",
              "      --disabled-fill-color: #AAA;\n",
              "      --disabled-bg-color: #DDD;\n",
              "  }\n",
              "\n",
              "  [theme=dark] .colab-df-quickchart {\n",
              "      --bg-color: #3B4455;\n",
              "      --fill-color: #D2E3FC;\n",
              "      --hover-bg-color: #434B5C;\n",
              "      --hover-fill-color: #FFFFFF;\n",
              "      --disabled-bg-color: #3B4455;\n",
              "      --disabled-fill-color: #666;\n",
              "  }\n",
              "\n",
              "  .colab-df-quickchart {\n",
              "    background-color: var(--bg-color);\n",
              "    border: none;\n",
              "    border-radius: 50%;\n",
              "    cursor: pointer;\n",
              "    display: none;\n",
              "    fill: var(--fill-color);\n",
              "    height: 32px;\n",
              "    padding: 0;\n",
              "    width: 32px;\n",
              "  }\n",
              "\n",
              "  .colab-df-quickchart:hover {\n",
              "    background-color: var(--hover-bg-color);\n",
              "    box-shadow: 0 1px 2px rgba(60, 64, 67, 0.3), 0 1px 3px 1px rgba(60, 64, 67, 0.15);\n",
              "    fill: var(--button-hover-fill-color);\n",
              "  }\n",
              "\n",
              "  .colab-df-quickchart-complete:disabled,\n",
              "  .colab-df-quickchart-complete:disabled:hover {\n",
              "    background-color: var(--disabled-bg-color);\n",
              "    fill: var(--disabled-fill-color);\n",
              "    box-shadow: none;\n",
              "  }\n",
              "\n",
              "  .colab-df-spinner {\n",
              "    border: 2px solid var(--fill-color);\n",
              "    border-color: transparent;\n",
              "    border-bottom-color: var(--fill-color);\n",
              "    animation:\n",
              "      spin 1s steps(1) infinite;\n",
              "  }\n",
              "\n",
              "  @keyframes spin {\n",
              "    0% {\n",
              "      border-color: transparent;\n",
              "      border-bottom-color: var(--fill-color);\n",
              "      border-left-color: var(--fill-color);\n",
              "    }\n",
              "    20% {\n",
              "      border-color: transparent;\n",
              "      border-left-color: var(--fill-color);\n",
              "      border-top-color: var(--fill-color);\n",
              "    }\n",
              "    30% {\n",
              "      border-color: transparent;\n",
              "      border-left-color: var(--fill-color);\n",
              "      border-top-color: var(--fill-color);\n",
              "      border-right-color: var(--fill-color);\n",
              "    }\n",
              "    40% {\n",
              "      border-color: transparent;\n",
              "      border-right-color: var(--fill-color);\n",
              "      border-top-color: var(--fill-color);\n",
              "    }\n",
              "    60% {\n",
              "      border-color: transparent;\n",
              "      border-right-color: var(--fill-color);\n",
              "    }\n",
              "    80% {\n",
              "      border-color: transparent;\n",
              "      border-right-color: var(--fill-color);\n",
              "      border-bottom-color: var(--fill-color);\n",
              "    }\n",
              "    90% {\n",
              "      border-color: transparent;\n",
              "      border-bottom-color: var(--fill-color);\n",
              "    }\n",
              "  }\n",
              "</style>\n",
              "\n",
              "  <script>\n",
              "    async function quickchart(key) {\n",
              "      const quickchartButtonEl =\n",
              "        document.querySelector('#' + key + ' button');\n",
              "      quickchartButtonEl.disabled = true;  // To prevent multiple clicks.\n",
              "      quickchartButtonEl.classList.add('colab-df-spinner');\n",
              "      try {\n",
              "        const charts = await google.colab.kernel.invokeFunction(\n",
              "            'suggestCharts', [key], {});\n",
              "      } catch (error) {\n",
              "        console.error('Error during call to suggestCharts:', error);\n",
              "      }\n",
              "      quickchartButtonEl.classList.remove('colab-df-spinner');\n",
              "      quickchartButtonEl.classList.add('colab-df-quickchart-complete');\n",
              "    }\n",
              "    (() => {\n",
              "      let quickchartButtonEl =\n",
              "        document.querySelector('#df-0632f465-a5cd-4091-80e8-6612e960961e button');\n",
              "      quickchartButtonEl.style.display =\n",
              "        google.colab.kernel.accessAllowed ? 'block' : 'none';\n",
              "    })();\n",
              "  </script>\n",
              "</div>\n",
              "    </div>\n",
              "  </div>\n"
            ]
          },
          "metadata": {},
          "execution_count": 7
        }
      ]
    },
    {
      "cell_type": "code",
      "source": [],
      "metadata": {
        "id": "XCHNnWAnO1Go"
      },
      "execution_count": 7,
      "outputs": []
    },
    {
      "cell_type": "code",
      "source": [
        "# alternative way to find the number of contigs >= 1000 bp and the size of the largest one\n",
        "\n",
        "largest_contig = 0\n",
        "contigs_larger_than_1000 = 0\n",
        "\n",
        "for seq_record in SeqIO.parse(\"/content/drive/MyDrive/HW1_files/spades_scaffolds.fasta\", \"fasta\"):\n",
        "\n",
        "  if len(seq_record) >= 1000:\n",
        "    contigs_larger_than_1000 += 1\n",
        "\n",
        "  if len(seq_record) > largest_contig:\n",
        "    largest_contig = len(seq_record)\n",
        "\n",
        "\n",
        "print(\"Number of contigs >= 1000 bp:\", contigs_larger_than_1000)\n",
        "print(\"Size of the largest contig:\", largest_contig)"
      ],
      "metadata": {
        "colab": {
          "base_uri": "https://localhost:8080/"
        },
        "id": "rlCuEPZPSU0H",
        "outputId": "94abc5d7-59b4-4a5d-8d93-7183a2b0111b"
      },
      "execution_count": 8,
      "outputs": [
        {
          "output_type": "stream",
          "name": "stdout",
          "text": [
            "Number of contigs >= 1000 bp: 666\n",
            "Size of the largest contig: 29907\n"
          ]
        }
      ]
    },
    {
      "cell_type": "code",
      "source": [],
      "metadata": {
        "id": "GAIPaGZuSUsY"
      },
      "execution_count": 8,
      "outputs": []
    },
    {
      "cell_type": "code",
      "source": [],
      "metadata": {
        "id": "mwaaRUZuMqmV"
      },
      "execution_count": 8,
      "outputs": []
    },
    {
      "cell_type": "code",
      "source": [],
      "metadata": {
        "id": "Lc3JMLG_zRtO"
      },
      "execution_count": 8,
      "outputs": []
    },
    {
      "cell_type": "markdown",
      "source": [
        "# 2. Finding contigs of interest"
      ],
      "metadata": {
        "id": "3Y0IH4yfbeoL"
      }
    },
    {
      "cell_type": "markdown",
      "source": [
        "#### For this step we will use the data produced by ViralVerify program.\n",
        "#### We will use two files: one file with ViralVerify results and one .fasta file containing only viral contigs."
      ],
      "metadata": {
        "id": "8aulomzobpkZ"
      }
    },
    {
      "cell_type": "code",
      "source": [],
      "metadata": {
        "id": "Fm_0YVM3Mqg7"
      },
      "execution_count": 8,
      "outputs": []
    },
    {
      "cell_type": "code",
      "source": [
        "# let's have a look at viralverify output\n",
        "\n",
        "viralverify_output = pd.read_csv(\"/content/drive/MyDrive/HW1_files/spades_contig_result_table.csv\")\n",
        "\n",
        "viralverify_output.head(6)"
      ],
      "metadata": {
        "colab": {
          "base_uri": "https://localhost:8080/",
          "height": 342
        },
        "id": "pdh7Zb3HcLPo",
        "outputId": "55281b29-f063-4b0b-8896-925e462f0e4a"
      },
      "execution_count": 9,
      "outputs": [
        {
          "output_type": "execute_result",
          "data": {
            "text/plain": [
              "                           Сontig_name Prediction_result  Length Circular  \\\n",
              "0   NODE_1_length_29907_cov_150.822528             Virus   29907        -   \n",
              "1      NODE_2_length_8134_cov_6.182822        Chromosome    8134        -   \n",
              "2  NODE_3_length_5584_cov_13759.613946             Virus    5584        -   \n",
              "3     NODE_4_length_5116_cov_18.119468        Chromosome    5116        -   \n",
              "4     NODE_5_length_4266_cov_43.850322        Chromosome    4266        -   \n",
              "5     NODE_6_length_4083_cov_14.312531        Chromosome    4083        -   \n",
              "\n",
              "     Score                                               HMMs  \n",
              "0   185.77  Sars6 Corona_S2 Spike_rec_bind APA3_viroporin ...  \n",
              "1  -102.81  Ribosomal_L4 Ribosomal_L16 Ribosomal_S3_C KH_2...  \n",
              "2    14.37  Microvir_J Phage_F Microvir_H Phage_G Phage_C ...  \n",
              "3   -21.66  Ribosomal_L1 Ribosomal_L10 Ribosomal_L12 Ribos...  \n",
              "4    -9.32  Ribosomal_S21 Phage_integrase Phage_int_SAM_1 ...  \n",
              "5   -16.18  ATP-synt OSCP ATP-synt_ab ATP-synt_ab_C ATP-sy...  "
            ],
            "text/html": [
              "\n",
              "  <div id=\"df-b2aaeca2-1900-4a48-8ceb-e060bdeefa52\" class=\"colab-df-container\">\n",
              "    <div>\n",
              "<style scoped>\n",
              "    .dataframe tbody tr th:only-of-type {\n",
              "        vertical-align: middle;\n",
              "    }\n",
              "\n",
              "    .dataframe tbody tr th {\n",
              "        vertical-align: top;\n",
              "    }\n",
              "\n",
              "    .dataframe thead th {\n",
              "        text-align: right;\n",
              "    }\n",
              "</style>\n",
              "<table border=\"1\" class=\"dataframe\">\n",
              "  <thead>\n",
              "    <tr style=\"text-align: right;\">\n",
              "      <th></th>\n",
              "      <th>Сontig_name</th>\n",
              "      <th>Prediction_result</th>\n",
              "      <th>Length</th>\n",
              "      <th>Circular</th>\n",
              "      <th>Score</th>\n",
              "      <th>HMMs</th>\n",
              "    </tr>\n",
              "  </thead>\n",
              "  <tbody>\n",
              "    <tr>\n",
              "      <th>0</th>\n",
              "      <td>NODE_1_length_29907_cov_150.822528</td>\n",
              "      <td>Virus</td>\n",
              "      <td>29907</td>\n",
              "      <td>-</td>\n",
              "      <td>185.77</td>\n",
              "      <td>Sars6 Corona_S2 Spike_rec_bind APA3_viroporin ...</td>\n",
              "    </tr>\n",
              "    <tr>\n",
              "      <th>1</th>\n",
              "      <td>NODE_2_length_8134_cov_6.182822</td>\n",
              "      <td>Chromosome</td>\n",
              "      <td>8134</td>\n",
              "      <td>-</td>\n",
              "      <td>-102.81</td>\n",
              "      <td>Ribosomal_L4 Ribosomal_L16 Ribosomal_S3_C KH_2...</td>\n",
              "    </tr>\n",
              "    <tr>\n",
              "      <th>2</th>\n",
              "      <td>NODE_3_length_5584_cov_13759.613946</td>\n",
              "      <td>Virus</td>\n",
              "      <td>5584</td>\n",
              "      <td>-</td>\n",
              "      <td>14.37</td>\n",
              "      <td>Microvir_J Phage_F Microvir_H Phage_G Phage_C ...</td>\n",
              "    </tr>\n",
              "    <tr>\n",
              "      <th>3</th>\n",
              "      <td>NODE_4_length_5116_cov_18.119468</td>\n",
              "      <td>Chromosome</td>\n",
              "      <td>5116</td>\n",
              "      <td>-</td>\n",
              "      <td>-21.66</td>\n",
              "      <td>Ribosomal_L1 Ribosomal_L10 Ribosomal_L12 Ribos...</td>\n",
              "    </tr>\n",
              "    <tr>\n",
              "      <th>4</th>\n",
              "      <td>NODE_5_length_4266_cov_43.850322</td>\n",
              "      <td>Chromosome</td>\n",
              "      <td>4266</td>\n",
              "      <td>-</td>\n",
              "      <td>-9.32</td>\n",
              "      <td>Ribosomal_S21 Phage_integrase Phage_int_SAM_1 ...</td>\n",
              "    </tr>\n",
              "    <tr>\n",
              "      <th>5</th>\n",
              "      <td>NODE_6_length_4083_cov_14.312531</td>\n",
              "      <td>Chromosome</td>\n",
              "      <td>4083</td>\n",
              "      <td>-</td>\n",
              "      <td>-16.18</td>\n",
              "      <td>ATP-synt OSCP ATP-synt_ab ATP-synt_ab_C ATP-sy...</td>\n",
              "    </tr>\n",
              "  </tbody>\n",
              "</table>\n",
              "</div>\n",
              "    <div class=\"colab-df-buttons\">\n",
              "\n",
              "  <div class=\"colab-df-container\">\n",
              "    <button class=\"colab-df-convert\" onclick=\"convertToInteractive('df-b2aaeca2-1900-4a48-8ceb-e060bdeefa52')\"\n",
              "            title=\"Convert this dataframe to an interactive table.\"\n",
              "            style=\"display:none;\">\n",
              "\n",
              "  <svg xmlns=\"http://www.w3.org/2000/svg\" height=\"24px\" viewBox=\"0 -960 960 960\">\n",
              "    <path d=\"M120-120v-720h720v720H120Zm60-500h600v-160H180v160Zm220 220h160v-160H400v160Zm0 220h160v-160H400v160ZM180-400h160v-160H180v160Zm440 0h160v-160H620v160ZM180-180h160v-160H180v160Zm440 0h160v-160H620v160Z\"/>\n",
              "  </svg>\n",
              "    </button>\n",
              "\n",
              "  <style>\n",
              "    .colab-df-container {\n",
              "      display:flex;\n",
              "      gap: 12px;\n",
              "    }\n",
              "\n",
              "    .colab-df-convert {\n",
              "      background-color: #E8F0FE;\n",
              "      border: none;\n",
              "      border-radius: 50%;\n",
              "      cursor: pointer;\n",
              "      display: none;\n",
              "      fill: #1967D2;\n",
              "      height: 32px;\n",
              "      padding: 0 0 0 0;\n",
              "      width: 32px;\n",
              "    }\n",
              "\n",
              "    .colab-df-convert:hover {\n",
              "      background-color: #E2EBFA;\n",
              "      box-shadow: 0px 1px 2px rgba(60, 64, 67, 0.3), 0px 1px 3px 1px rgba(60, 64, 67, 0.15);\n",
              "      fill: #174EA6;\n",
              "    }\n",
              "\n",
              "    .colab-df-buttons div {\n",
              "      margin-bottom: 4px;\n",
              "    }\n",
              "\n",
              "    [theme=dark] .colab-df-convert {\n",
              "      background-color: #3B4455;\n",
              "      fill: #D2E3FC;\n",
              "    }\n",
              "\n",
              "    [theme=dark] .colab-df-convert:hover {\n",
              "      background-color: #434B5C;\n",
              "      box-shadow: 0px 1px 3px 1px rgba(0, 0, 0, 0.15);\n",
              "      filter: drop-shadow(0px 1px 2px rgba(0, 0, 0, 0.3));\n",
              "      fill: #FFFFFF;\n",
              "    }\n",
              "  </style>\n",
              "\n",
              "    <script>\n",
              "      const buttonEl =\n",
              "        document.querySelector('#df-b2aaeca2-1900-4a48-8ceb-e060bdeefa52 button.colab-df-convert');\n",
              "      buttonEl.style.display =\n",
              "        google.colab.kernel.accessAllowed ? 'block' : 'none';\n",
              "\n",
              "      async function convertToInteractive(key) {\n",
              "        const element = document.querySelector('#df-b2aaeca2-1900-4a48-8ceb-e060bdeefa52');\n",
              "        const dataTable =\n",
              "          await google.colab.kernel.invokeFunction('convertToInteractive',\n",
              "                                                    [key], {});\n",
              "        if (!dataTable) return;\n",
              "\n",
              "        const docLinkHtml = 'Like what you see? Visit the ' +\n",
              "          '<a target=\"_blank\" href=https://colab.research.google.com/notebooks/data_table.ipynb>data table notebook</a>'\n",
              "          + ' to learn more about interactive tables.';\n",
              "        element.innerHTML = '';\n",
              "        dataTable['output_type'] = 'display_data';\n",
              "        await google.colab.output.renderOutput(dataTable, element);\n",
              "        const docLink = document.createElement('div');\n",
              "        docLink.innerHTML = docLinkHtml;\n",
              "        element.appendChild(docLink);\n",
              "      }\n",
              "    </script>\n",
              "  </div>\n",
              "\n",
              "\n",
              "<div id=\"df-82ae004e-6ad0-441a-b618-211f8ab7b0f4\">\n",
              "  <button class=\"colab-df-quickchart\" onclick=\"quickchart('df-82ae004e-6ad0-441a-b618-211f8ab7b0f4')\"\n",
              "            title=\"Suggest charts.\"\n",
              "            style=\"display:none;\">\n",
              "\n",
              "<svg xmlns=\"http://www.w3.org/2000/svg\" height=\"24px\"viewBox=\"0 0 24 24\"\n",
              "     width=\"24px\">\n",
              "    <g>\n",
              "        <path d=\"M19 3H5c-1.1 0-2 .9-2 2v14c0 1.1.9 2 2 2h14c1.1 0 2-.9 2-2V5c0-1.1-.9-2-2-2zM9 17H7v-7h2v7zm4 0h-2V7h2v10zm4 0h-2v-4h2v4z\"/>\n",
              "    </g>\n",
              "</svg>\n",
              "  </button>\n",
              "\n",
              "<style>\n",
              "  .colab-df-quickchart {\n",
              "      --bg-color: #E8F0FE;\n",
              "      --fill-color: #1967D2;\n",
              "      --hover-bg-color: #E2EBFA;\n",
              "      --hover-fill-color: #174EA6;\n",
              "      --disabled-fill-color: #AAA;\n",
              "      --disabled-bg-color: #DDD;\n",
              "  }\n",
              "\n",
              "  [theme=dark] .colab-df-quickchart {\n",
              "      --bg-color: #3B4455;\n",
              "      --fill-color: #D2E3FC;\n",
              "      --hover-bg-color: #434B5C;\n",
              "      --hover-fill-color: #FFFFFF;\n",
              "      --disabled-bg-color: #3B4455;\n",
              "      --disabled-fill-color: #666;\n",
              "  }\n",
              "\n",
              "  .colab-df-quickchart {\n",
              "    background-color: var(--bg-color);\n",
              "    border: none;\n",
              "    border-radius: 50%;\n",
              "    cursor: pointer;\n",
              "    display: none;\n",
              "    fill: var(--fill-color);\n",
              "    height: 32px;\n",
              "    padding: 0;\n",
              "    width: 32px;\n",
              "  }\n",
              "\n",
              "  .colab-df-quickchart:hover {\n",
              "    background-color: var(--hover-bg-color);\n",
              "    box-shadow: 0 1px 2px rgba(60, 64, 67, 0.3), 0 1px 3px 1px rgba(60, 64, 67, 0.15);\n",
              "    fill: var(--button-hover-fill-color);\n",
              "  }\n",
              "\n",
              "  .colab-df-quickchart-complete:disabled,\n",
              "  .colab-df-quickchart-complete:disabled:hover {\n",
              "    background-color: var(--disabled-bg-color);\n",
              "    fill: var(--disabled-fill-color);\n",
              "    box-shadow: none;\n",
              "  }\n",
              "\n",
              "  .colab-df-spinner {\n",
              "    border: 2px solid var(--fill-color);\n",
              "    border-color: transparent;\n",
              "    border-bottom-color: var(--fill-color);\n",
              "    animation:\n",
              "      spin 1s steps(1) infinite;\n",
              "  }\n",
              "\n",
              "  @keyframes spin {\n",
              "    0% {\n",
              "      border-color: transparent;\n",
              "      border-bottom-color: var(--fill-color);\n",
              "      border-left-color: var(--fill-color);\n",
              "    }\n",
              "    20% {\n",
              "      border-color: transparent;\n",
              "      border-left-color: var(--fill-color);\n",
              "      border-top-color: var(--fill-color);\n",
              "    }\n",
              "    30% {\n",
              "      border-color: transparent;\n",
              "      border-left-color: var(--fill-color);\n",
              "      border-top-color: var(--fill-color);\n",
              "      border-right-color: var(--fill-color);\n",
              "    }\n",
              "    40% {\n",
              "      border-color: transparent;\n",
              "      border-right-color: var(--fill-color);\n",
              "      border-top-color: var(--fill-color);\n",
              "    }\n",
              "    60% {\n",
              "      border-color: transparent;\n",
              "      border-right-color: var(--fill-color);\n",
              "    }\n",
              "    80% {\n",
              "      border-color: transparent;\n",
              "      border-right-color: var(--fill-color);\n",
              "      border-bottom-color: var(--fill-color);\n",
              "    }\n",
              "    90% {\n",
              "      border-color: transparent;\n",
              "      border-bottom-color: var(--fill-color);\n",
              "    }\n",
              "  }\n",
              "</style>\n",
              "\n",
              "  <script>\n",
              "    async function quickchart(key) {\n",
              "      const quickchartButtonEl =\n",
              "        document.querySelector('#' + key + ' button');\n",
              "      quickchartButtonEl.disabled = true;  // To prevent multiple clicks.\n",
              "      quickchartButtonEl.classList.add('colab-df-spinner');\n",
              "      try {\n",
              "        const charts = await google.colab.kernel.invokeFunction(\n",
              "            'suggestCharts', [key], {});\n",
              "      } catch (error) {\n",
              "        console.error('Error during call to suggestCharts:', error);\n",
              "      }\n",
              "      quickchartButtonEl.classList.remove('colab-df-spinner');\n",
              "      quickchartButtonEl.classList.add('colab-df-quickchart-complete');\n",
              "    }\n",
              "    (() => {\n",
              "      let quickchartButtonEl =\n",
              "        document.querySelector('#df-82ae004e-6ad0-441a-b618-211f8ab7b0f4 button');\n",
              "      quickchartButtonEl.style.display =\n",
              "        google.colab.kernel.accessAllowed ? 'block' : 'none';\n",
              "    })();\n",
              "  </script>\n",
              "</div>\n",
              "    </div>\n",
              "  </div>\n"
            ]
          },
          "metadata": {},
          "execution_count": 9
        }
      ]
    },
    {
      "cell_type": "code",
      "source": [],
      "metadata": {
        "id": "Ca0v-azodzcG"
      },
      "execution_count": 9,
      "outputs": []
    },
    {
      "cell_type": "code",
      "source": [
        "# printing basic stats\n",
        "\n",
        "print(\"Total number of contigs:\", len(viralverify_output))\n",
        "print(\"Number of viral contigs:\", len(viralverify_output[viralverify_output['Prediction_result'] == 'Virus']))"
      ],
      "metadata": {
        "colab": {
          "base_uri": "https://localhost:8080/"
        },
        "id": "lbDEaGVmdzTH",
        "outputId": "b6359a37-195c-415d-b0c7-041cf883bfc0"
      },
      "execution_count": 10,
      "outputs": [
        {
          "output_type": "stream",
          "name": "stdout",
          "text": [
            "Total number of contigs: 111270\n",
            "Number of viral contigs: 194\n"
          ]
        }
      ]
    },
    {
      "cell_type": "code",
      "source": [],
      "metadata": {
        "id": "wFCBtDaVfvwR"
      },
      "execution_count": 10,
      "outputs": []
    },
    {
      "cell_type": "code",
      "source": [],
      "metadata": {
        "id": "jdE12vI6fvot"
      },
      "execution_count": 10,
      "outputs": []
    },
    {
      "cell_type": "code",
      "source": [],
      "metadata": {
        "id": "0ojq0GTlfwts"
      },
      "execution_count": 10,
      "outputs": []
    },
    {
      "cell_type": "markdown",
      "source": [
        "# 3. BLASTing the contig of interest"
      ],
      "metadata": {
        "id": "UcU3N299fxdP"
      }
    },
    {
      "cell_type": "code",
      "source": [],
      "metadata": {
        "id": "gvR-XLN3fve7"
      },
      "execution_count": 10,
      "outputs": []
    },
    {
      "cell_type": "markdown",
      "source": [
        "##### After looking at the contig table info, it became obvious that the first contig is the most interesting for our task, as its length is of orders of magnitude higher than others' ones"
      ],
      "metadata": {
        "id": "C99SkUHwfA0B"
      }
    },
    {
      "cell_type": "code",
      "source": [],
      "metadata": {
        "id": "h-u9Bp35glKS"
      },
      "execution_count": 10,
      "outputs": []
    },
    {
      "cell_type": "code",
      "source": [
        "# finding the id of largest contig in our file\n",
        "\n",
        "contig_name = viralverify_output[viralverify_output[\"Length\"] == viralverify_output[\"Length\"].max()].iat[0,0]\n",
        "contig_name"
      ],
      "metadata": {
        "colab": {
          "base_uri": "https://localhost:8080/",
          "height": 35
        },
        "id": "iVrcFNMNglDO",
        "outputId": "87c273ab-44dc-4a19-fcc9-0500dee36eee"
      },
      "execution_count": 11,
      "outputs": [
        {
          "output_type": "execute_result",
          "data": {
            "text/plain": [
              "'NODE_1_length_29907_cov_150.822528'"
            ],
            "application/vnd.google.colaboratory.intrinsic+json": {
              "type": "string"
            }
          },
          "metadata": {},
          "execution_count": 11
        }
      ]
    },
    {
      "cell_type": "code",
      "source": [],
      "metadata": {
        "id": "-0LqGmz1gk7B"
      },
      "execution_count": 11,
      "outputs": []
    },
    {
      "cell_type": "code",
      "source": [
        "# finding the nt sequence of the largest contig\n",
        "\n",
        "for seq_record in SeqIO.parse(\"/content/drive/MyDrive/HW1_files/spades_scaffolds.fasta\", \"fasta\"):\n",
        "  if seq_record.id == contig_name:\n",
        "    contig_seq = seq_record.seq\n",
        "    break\n",
        "\n",
        "contig_seq = str(contig_seq)\n",
        "print(contig_seq)"
      ],
      "metadata": {
        "colab": {
          "base_uri": "https://localhost:8080/"
        },
        "id": "4Nu-RbYkgkxA",
        "outputId": "887e4870-f869-4461-c7cd-1466619c5c69"
      },
      "execution_count": 12,
      "outputs": [
        {
          "output_type": "stream",
          "name": "stdout",
          "text": [
            "GTGTTTGATTTTTTTTTTTTTTTTTTTTTTTTGTCATTCTCCTAAGAAGCTATTAAAATCACATGGGGATAGCACTACTAAAATTAATTTTACACATTAGGGCTCTTCCATATAGGCAGCTCTCCCTAGCATTGTTCACTGTACACTCGATCGTACTCCGCGTGGCCTCGGTGAAAATGTGGTGGCTCTTTCAAGTCCTCCCTAATGTTACACACTGATTAAAGATTGCTATGTGAGATTAAAGTTAACTACATCTACTTGTGCTATGTAGTTACGAGAATTCATTCTGCACAAGAGTAGACTATATATCGTAAACGGAAAAGCGAAAACGTTTATATAGCCCATCTGCCTTGTGTGGTCTGCATGAGTTTAGGCCTGAGTTGAGTCAGCACTGCTCATGGATTGTTGCAATTGTTTGGAGAAATCATCCAAATCTGCAGCAGGAAGAAGAGTCACAGTTTGCTGTTTCTTCTGTCTCTGCGGTAAGGCTTGAGTTTCATCAGCCTTCTTCTTTTTGTCCTTTTTAGGCTCTGTTGGTGGGAATGTTTTGTATGCGTCAATATGCTTATTCAGCAAAATGACTTGATCTTTGAAATTTGGATCTTTGTCATCCAATTTGATGGCACCTGTGTAGGTCAACCACGTTCCCGAAGGTGTGACTTCCATGCCAATGCGCGACATTCCGAAGAACGCTGAAGCGCTGGGGGCAAATTGTGCAATTTGCGGCCAATGTTTGTAATCAGTTCCTTGTCTGATTAGTTCCTGGTCCCCAAAATTTCCTTGGGTTTGTTCTGGACCACGTCTGCCGAAAGCTTGTGTTACATTGTATGCTTTAGTGGCAGTACGTTTTTGCCGAGGCTTCTTAGAAGCCTCAGCAGCAGATTTCTTAGTGACAGTTTGGCCTTGTTGTTGTTGGCCTTTACCAGACATTTTGCTCTCAAGCTGGTTCAATCTGTCAAGCAGCAGCAAAGCAAGAGCAGCATCACCGCCATTGCCAGCCATTCTAGCAGGAGAAGTTCCCCTACTGCTGCCTGGAGTTGAATTTCTTGAACTGTTGCGACTACGTGATGAGGAACGAGAAGAGGCTTGACTGCCGCCTCTGCTCCCTTCTGCGTAGAAGCCTTTTGGCAATGTTGTTCCTTGAGGAAGTTGTAGCACGATTGCAGCATTGTTAGCAGGATTGCGGGTGCCAATGTGATCTTTTGGTGTATTCAAGGCTCCCTCAGTTGCAACCCATATGATGCCGTCTTTGTTAGCACCATAGGGAAGTCCAGCTTCTGGCCCAGTTCCTAGGTAGTAGAAATACCATCTTGGACTGAGATCTTTCATTTTACCGTCACCACCACGAATTCGTCTGGTAGCTCTTCGGTAGTAGCCAATTTGGTCATCTGGACTGCTATTGGTGTTAATTGGAACGCCTTGTCCTCGAGGGAATTTAAGGTCTTCCTTGCCATGTTGAGTGAGAGCGGTGAACCAAGACGCAGTATTATTGGGTAAACCTTGGGGCCGACGTTGTTTTGATCGCGCCCCACTGCGTTCTCCATTCTGGTTACTGCCAGTTGAATCTGAGGGTCCACCAAACGTAATGCGGGGTGCATTTCGCTGATTTTGGGGTCCATTATCAGACATTTTAGTTTGTTCGTTTAGATGAAATCTAAAACAACACGAACGTCATGATACTCTAAAAAGTCTTCATAGAACGAACAACGCACTACAAGACTACCCAATTTAGGTTCCTGGCAATTAATTGTAAAAGGTAAACAGGAAACTGTATAATTACCGATATCGATGTACTGAATGGGTGATTTAGAACCAGCCTCATCCACGCACAATTCAATTAAAGGTGCTGATTTTCTAGCTCCTACTCTAATATACCATTTAGAATAGAAGTGAATAGGACACGGGTCATCAACTACATATGGTTGATGTTGAGTACATGACTGTAAACTACATTCTTGGTGAAATGCAGCTACAGTTGTGATGATTCCTAAGAAAACAAGAAATTTCATGTTCGTTTAGGCGTGACAAGTTTCATTATGATCTTGCAGTTCAAGTGAGAACCAAAAGATAATAAGCATAATTAAAACAAGGAATAGCAGAAAGGCTAAAAAGCACAAATAGAAGTCAATTAATGAAAGTTCAATCATTCTGTCTTTCTTTTGAGTGTGAAGCAAAGTGTTATAAACACTATTGCCGCAACAATAAGAAAAATTGGAGAGTAAAGTTCTTGAACTTCCTCTTGTCTGATGAACAGTTTAGGTGAAACTGATCTGGCACGTAACTGATAGACGTGTTTTACGCCGTCAGGACAAGCAAAAGCAAATTGAGTGCTAAAGCAAGTCAGTGCAAATTTGTTATCAGCTAGAGGATGAAATGGTGAATTGCCCTCGTATGTTCCAGAAGAGCAAGGTTCTTTTAAAAGTACTGTTGTACCTCTAACACACTCTTGGTAGTGATAAAGCTCACAAGTAGCGAGTGTTATCAGTGCCAAGAAAAGAATAATTTTCATGTTCGTTTAATCAATCTCCATTGGTTGCTCTTCATCTAATTGAGAATATTTATTCTCAGTTAGTGACTTAGATAAATTTTTAATTATGAGGTTTATGATGTAATCAAGATTCCAAATGGAAACTTTAAAAGTCCTCATAATAATTAGTAATATCTCTGCTATAGTAACCTGAAAGTCAACGAGATGAAACATCTGTTGTCACTTACTGTACAAGCAAAGCAATATTGTCACTGCTACTGGAATGGTCTGTGTTTAATTTATAGTTGCCAATCCTGTAGCGACTGTATGCAGCAAAACCTGAGTCACCTGCTACACGCTGCGAAGCTCCCAATTTGTAATAAGAAAGCGTTCGTGATGTAGCAACAGTGATTTCTTTAGGCAGGTCCTTGATGTCACAGCGTCCTAGATGGTGTCCAGCAATACGAAGATGTCCACGAAGGATCACAGCTCCGATTACGAGTTCACTTTCTAGAAGCGGTCTGGTCAGAATAGTGCCATGGAGTGGCACGTTGAGAAGAATGTTAGTTTCTGGATTGAATGACCACATGGAACGCGTACGCGCAAACAGTCTGAAAGAAGCAATGAAGTAGCTGAGCCACATCAAGCCTACAAGACAAGCCATTGCGATAGCAATTCCACCGGTGATCCAATTTATTCTGTAAACAGCAGCAAGCACAAAACAAGCTAAAGTTACTGGCCATAACAGCCAGAGGAAAATTAACTTAATTATATACAAAAACCTATTCCTGTTGGCATAGGCAAATTGTAGAAGACAAATCCATGTAAGGAATAGGAAACCTATTACTAGGTTCCATTGTTCAAGGAGCTTTTTAAGCTCTTCAACGGTAATAGTACCGTTGGAATCTGCCATGGCTAAAATTAAAGTTCCAAACAGAAAAACTAATATAATATTTAGTTCGTTTAGACCAGAAGATCAGGAACTCTAGAAGAATTCAGATTTTTAACACGAGAGTAAACGTAAAAAGAAGGTTTTACAAGACTCACGTTAACAATATTGCAGCAGTACGCACACAATCGAAGCGCAGTAAGGATGGCTAGTGTAACTAGCAAGAATACCACGAAAGCAAGAAAAAGAAGTACGCTATTAACTATTAACGTACCTGTCTCTTCCGAAACGAATGAGTACATAAGTTCGTACTCATCAGCTTGTGCTTACAAAGGCACGCTAGTAGTCGTCGTCGGTTCATCATAAATTGGTTCCATTACTGGATTAACAACTCCGGATGAACCGTCGATTGTGTGAATTTGGACATGTTCTTCAGGCTCATCAACAATTTTATTGTAGATGAAGAAGGTAACATGTTCAACACCAGTGTCTGTACTCAATTGAGTTGAGTACAGCTGGTAATAGTCTGAAGTGAAGTAACTGTGTAATACAACACAGTCTTTTACTCCAGATTCCCATTTTTCAGTATAACCACCAATCTGGTAGTCATGTTCAGAAATAGGACTTGTTGTGCCATCACCTGAAGTAATGACAATTGAAGAAGTTACACTATTGTAAGGTATACAATAGTCGTAACAATTAGTATGCCAGCAAAGAAAATAGTTGGCATCATAAAGTAATGGGTTTTTGGAACGGCATTTCCAGCAAAGCCAAAGCCTCATTATTATTCTTACAAAGTTTATACTCTGCAAGAAGTAGACTAAAGCATAAAGATAGAGAAAAGGGGCTTCAAGGCCAGCAGCAACGAGCAAAAGGTGTGAGTAAACTGTTACAAACAACAACAGCAAGTTGCAAACAAAGTGAACACCCTTGGAGAGTGCTAGTTGCCATCTCTTTTTGAGGGTTATGATTTTGGAAGCGCTCTGAAAAACAGCAAGAAGTGCAACGCCAACAATAAGCCATCCGAAAGGGAGTGAGGCTTGTATCGGTATCGTTGCAGTAGCGCGAACAAAATCTGAAGGAGTAGCATCCTTGATTTCACCTTGCTTCAAAGTTACAGTTCCAATTGTGAAGATTCTCATAAACAAATCCATAAGTTCGTTTATGTGTAATGTAATTTGACTCCTTTGAGCACTGGCTCAGAGTCGTCTTCATCAAATTTGCAGCAGGATCCACAAGAACAACAGCCCTTGAGACAACTACAGCAACTGGTCATACAGCAAAGCATAATTGTCACCATTACTATGGCAATCAAGCCAGCTATAAAACCTAGCCAAATGTACCATGGCCATTTTATATACTGCTCATACTTTCCAAGTTCTTGGAGATCGATGAGAGATTCATTTAAATTCTTGGCAACCTCATTGAGGCGGTCAATTTCTTTTTGAATGTTTACAACTGAAGCATTAATGCCAGAGATGTCACCTAAATCAACATCTGGTGATGTATGATTCTTAAAATATTTATCTAACTCCTCCTTGAATGAGTCTAATTCAGGTTGCAAAGGATCATAAACTGTGTTGTTGACAATTCCTATTACAACATCACAGTTACCAGACACAAATGTGTTGTCTGTAGTAATGATTTGTGGTTCATAAAAATTCCTTTGTGTTACAAACCAGTGTGTGCCATTTGAAACAAAGACACCTTCACGAGGAAAGTGTGCTTTTCCATCATGACAAATGGCAGGAGCAGTTGTGAAGTTCTTTTCTTGTGCAGGGACATAAGTCACATGCAAGAAGACTACACCATGAGGTGCTGACTGAGGGAAGGACATAAGATGATAGCCCTTTCCACAAAAATCAACTCTTTTTGATTGTCCAAGTACACACTCTGACATTTTAGTAGCAGCAAGATTAGCAGAAGCTCTGATTTCTGCAGCTCTAATTAATTGTTGAGTCACATATGTCTGCAAACTTTGAAGTCTGCCTGTGATCAACCTATCAATTTGCACTTCAGCCTCAACTTTGTCAAGACGTGAAAGGATATCATTTAAAACACTTGAAATTGCACCAAAATTGGAGCTAAGTTGTTTAACAAGCGTGTTTAAAGCTTGTGCATTTTGGTTGACCACATCTTGAAGTTTTCCAAGTGCACTTGCTGTGGAAGAAAGTGAGTCTTGAATTTTGCCAATAGCACTATTAAATTGGTTGGCAATCAATTTTTGGTTCTCATAGAGAACATTCTGTGTAACTCCAATACCATTAAACCTATAAGCCATTTGCATAGCAAATGGTATTTGTAATGCAGCACCTGCACCAAAGGTCCAACCAGAAGTGATTGTACCCGCTAACAGTGCAGAAGTGTATTGAGCAATCATTTCATCTGTGAGCAAAGGTGGCAAAACAGTAAGGCCGTTAAACTTTTGTGCACAAATGAGGTCTCTAGCAGCAATATCACCAAGGCAATCACCATATTGTTTGATGAAGCCAGCATCTGCAAGTGTCACTTTGTTGAAAAGTAGATCTTCAATAAATGACCTCTTGCTTGGTTTTGATGGATCTGGTAATATTTGTGAAAAATTAAAACCACCAAAATCTTTAATTGGTGGTGTTTTGTAAATTTGTTTGACTTGTGCAAAAACTTCTTGGGTGTTTTTGTCTTGTTCAACAGCTATTCCAGTTAAAGCACGGTTTAATTGTGTACAAAAACTGCCATATTGCAACAAAAGATTGCTGCATTCAGTTGAATCACCACAAATGTACATTGTACAATCTACTGATGTCTTGGTCATAGACACTGGTAGAATTTCTGTGGTAACACTAATAGTAAAATTTGTGGGTATGGCAATAGAGTTATTAGAGTAAGCAACTGAATTTTCTGCACCAAGTGACATAGTGTAGGCAATGATGGATTGACTAGCTACACTACGTGCCCGCCGAGGAGAATTAGTCTGAGTCTGATAACTAGCGCATATACCTGCACCAATGGGTATGTCACACTCATATGAGTTGTTGACATGTTCAGCCCCTATTAAACAGCCTGCACGTGTTTGAAAAACATTAGAACCTGTAGAATAAACACGCCAAGTAGGAGTAAGTTGATCTGCATGAATAGCAACAGGGACTTCTGTGCAGTTAACATCCTGATAAAGAACAGCAACCTGGTTAGAAGTATTTGTTCCTGGTGTTATAACACTGACACCACCAAAAGAACATGGTGTAATGTCAAGAATCTCAAGTGTCTGTGGATCACGGACAGCATCAGTAGTGTCAGCAATGTCTCTGCCAAATTGTTGGAAAGGCAGAAACTTTTTGTTAGACTCAGTAAGAACACCTGTGCCTGTTAAACCATTGAAGTTGAAATTGACACATTTGTTTTTAACCAAATTAGTAGACTTTTTAGGTCCACAAACAGTTGCTGGTGCATGTAGAAGTTCAAAAGAAAGTACTACTACTCTGTATGGTTGGTAACCAACACCATTAGTGGGTTGGAAACCATATGATTGTAAAGGAAAGTAACAATTAAAACCTTCAACACCATTACAAGGTGTGCTACCGGCCTGATAGATTTCAGTTGAAATATCTCTCTCAAAAGGTTTGAGATTAGACTTCCTAAACAATCTATACAGGTAATTATAATTACCACCAACCTTAGAATCAAGATTGTTAGAATTCCAAGCTATAACGCAGCCTGTAAAATCATCTGGTAATTTATAATTATAATCAGCAATCTTTCCAGTTTGCCCTGGAGCGATTTGTCTGACTTCATCACCTCTAATTACAAATGAATCTGCATAGACATTAGTAAAGCAGAGATCATTTAATTTAGTAGGAGACACTCCATAACACTTAAAAGTGGAAAATGATGCGGAATTATATAGGACAGAATAATCAGCAACACAGTTGCTGATTCTCTTCCTGTTCCAAGCATAAACAGATGCAAATCTGGTGGCGTTAAAAACTTCACCAAAAGGGCACAAGTTTGTAATATTAGGAAATCTAACAATAGATTCTGTTGGTTGGACTCTAAAGTTAGAAGTTTGATAGATTCCTTTTTCTACAGTGAAGGATTTCAACGTACACTTTGTTTCTGAGAGAGGGTCAAGTGCACAGTCTACAGCATCTGTAATGGTTCCATTTTCATTATATTTTAATAGAAAAGTCCTAGGTTGAAGATAACCCACATAATAAGCTGCAGCACCAGCTGTCCAACCTGAAGAAGAATCACCAGGAGTCAAATAACTTCTATGTAAAGCAAGTAAAGTTTGAAACCTAGTGATGTTAATACCTATTGGCAAATCTACCAATGGTTCTAAAGCCGAAAAACCCTGAGGGAGATCACGCACTAAATTAATAGGCGTGTGCTTAGAATATATTTTAAAATAACCATCAATATTCTTAAACACAAATTCCCTAAGATTTTTGAAATTACCCTGTTTTCCTTCAAGGTCCATAAGAAAAGGCTGAGAGACATATTCAAAAGTGCAATTATTCGCACTAGAATAAACTCTGAACTCACTTTCCATCCAACTTTTGTTGTTTTTGTGGTAATAAACACCCAAAAATGGATCATTACAAAATTGAAATTCACAGACTTTAATAACAACATTAGTAGCGTTATTAACAATAAGTAGGGACTGGGTCTTCGAATCTAAAGTAGTACCAAAAATCCAGCCTCTTATTATGTTAGACTTCTCAGTGGAAGCAAAATAAACACCATCATTAAATGGTAGGACAGGGTTATCAAACCTCTTAGTACCATTGGTCCCAGAGACATGTATAGCATGGAACCAAGTAACATTGGAAAAGAAAGGTAAGAACAAGTCCTGAGTTGAATGTAAAACTGAGGATCTGAAAACTTTGTCAGGGTAATAAACACCACGTGTGAAAGAATTAGTGTATGCAGGGGGTAATTGAGTTCTGGTTGTAAGATTAACACACTGACTAGAGACTAGTGGCAATAAAACAAGAAAAACAAACATTGTTCGTTTAGTTGTTAACAAGAACATCACTAGAAATAACAACTCTGTTGTTTTCTCTAATTATAAGTCTACCTTTACTAAGAAGAGATAAAATCATATCATTGATTTGACCTTCTTTTAAAGACATAACAGCAGTACCCCTTAATTTAAGGGGAAATTTACTCATGTCAAATAAAGAATAGGAAGACAACTGAATTGGATTTGTATTCCTCCAAAATATGTAATTTGCATGCATGACATAACCATCTATTTGTTCGCGTGGTTTGCCAAGATAATTACATCCAATTAAAAATGCTTCAGATGATGACGCATTCACATTAGTAACAAAGGCTGTCCACCATGCGAAGTGTCCCATGAGCTTATAAAGATCAGCATTCCAAGAATGTTCTGTTATCTTTATAGCCACGGAACCTCCAAGAGCTAGCTTTTGTTGTATAAACCCACAAATGTAAGTGAAAAAACCCTCTTTAGAGTCATTTTCTTTTGTAACATTTTTAGTCTTAGGGTCGTACATATCACTAATAATGAGATCCCATTTATTAGCTGTATGTACAGTTGCACAATCACCAATCAAAGTTGAATCTGCATCAGAGACAAAGTCATTAAGATCTGAATCGACAAGCAGCGTACCCGTAGGCAACCACTGTCTTAAAACAGCTGTACCTGGTGCAACTCCTTTATCAGAACCAGCACCAAAATGTATAACTCTCATATTATAGGGTACAGCTAATGTTAATGTGTTTAAATATTGACACAGTTGAGTATATTTTGCGACATTCATCATTATGCCTTTAGGTAATGTTGCACTATCACCATAATTTTGAAGGTCACACTTTTCTAATAGCATTCTTTGCATTTTGTAAAGATTAGGCATAGCAACACCCGGTTGCCACGCTTGACTAGATTGTAATTTTGGGTAAAATGTTTCTACATGGCCATCTTTACACCAAAGCATAAATGAAATTTCTGTATAGTCAATAGTCACTTTGACAACCTTAGAAACTACAGATAAATCTTGGGATTTTATTATTTCAACAAAATCATCAAGTAATAAATCAATAACAGAACACACACACTTAGATGAACCTGTTTGCGCATCTGTTATGAAATAGTTTTTAACTGTACTGTCCATAGGAATAAAATCTTCTAATTCAAAAGGTGATTCCTTAAAACGTTTAGCTAGTCCAATCAGTAGATGTAAACCACCTAACTGACTATGACTAAAATCTCCATAAACGATATGTTCGAAGGCATAGCCTTCTAATTTATACCGTTCAATGAATTCATCCATAGCTAATTCTAAGAAATCAATTTCCATTTGACTCCTGGGTTTAAATTCTTGTAAATTTCTACTCTGAGTAAAGTAAGTTTCAGGTAATTGTTGGACAACACCATCAACTTTCTTATAATAATTGAACTGTGTTTTTACGGCTTCTCCAATTAATGTGACTCCATTAAGACTAGCTTGTTTGGGACCTACAGATGGTTGTAAACCTTTAACACTACCTTCTGTAATAAGAACACCATTACGGGCATTTCTAAATAAGTCTACTTGACCATCAACTCTACCATCAAAAAAGACAGTGAGTGGTGCACAAATCGTTTCAGTTGGTTTCTTGGCTATGTCAGTCATAGAACAAACACCAATAGTAGATATATGTGCTGGAGCATCTCTTTTGTAGTCCCAGATCACAGTATTAGCAGCAATGTCCACACCCAAATTATTGAGTATTTTCACCTCTGGTACTGGTTTAATGTTGCGCTTAGCCCAAAGCTCAAATGCTACATTAACAGGTAATGTTGTTTTATTTTCAAACAATTCTACATCAACACCATCAACTTTTGTGTAAACAGTGTTATTAATGATAGAAACTGGTACTTCACCCTGTTGTCCATCAAAGTGTCCCTTATTTACAACATTAAAAGCCACATTTTCTAAACTCTGAAGTCTTGTAAAAGTGTTCCAGAGGTTATAAGTATCAAATTGTTTGTAAACCCACAAGCTAAAGCCAGCTGAGATCATCATGTTATAAGCATCGAGATACAATCTGTACTCATTAGCATGATGTCTACAGACAGCACCACCTAAATTGCAACGTGTTATACACGTAGCAGACTTTAGTGGTACATAATCTATATCTGACACTACTTGTTTTCCATGAGACTCACATGGACTGTCAGAGTAATAGAAAAATGGTAATTGTTTTAAATTAACAAAAGCACTTTTATCAAAAGCTGGTGTGTGGAATGCATGTTTATTTACATACAAACTGCCACCATCACAACCAGGCAAGTTAAGGTTAGATAGCACTCTAGTGTCAAATCTACAAACAATGGAATTAGCAGGATATCTATCGACATTGCAATTCCAAAATAGGCATACACCATCTGTGAATTTGTCAGAATGTGTGGCATAAGAATAGAATAATTCTTCTATTTTATAAGCTTTGTCACTACAAGGCTGTGCATCATAGAACTTCCATTCTACATCAGCTTGAGGTACACACTTAATAGCTTTAGGGTTACCAATGTCGTGAAGAACTGGGAATTTGTCTGCTAATAATGCAGCTTTAACAACCATGTGTTGAACCTTTCTACAAGCCGCATTAATCTTCAGTTCATCACCAATTATAGGATATTCAATAGTCCAGTCAACACGCTTAACAAAGCACTCGTGGACAGCTAGACACCTAGTCATGATTGCATCACAACTAGCTACATGTGCATTACCATGGACTTGACAATACAGATCATGGTTGCTTTGTAGGTTACCTGTAAAACCCCATTGTTGAACATCAATCATAAACGGATTATAGACGTAATCAAATCCAATAGAATGATGCCAACAGGCATAAGTGTCTGAAGCAGTGGAAAAGCATGTGGCACGTCTATCACATAGACAACAGGTGCGCTCAGGTCCTATTTTCACAAAATACTTCATAGATGTCAACTCAAAGCCATGTGCCCATAAGACAAATACGACTCTGTCAGAGAGATTTTTAAGTGTGTCACTTAACATTTGTACAATCTTTATACGCACTACATTCCAAGGAAGTCCTTTGTACATAAGTGGTATGAGGTGTTTAAATTGATCTCCAGGCGGTGGTTTAGCACTAACTCTGGAAAAATCTGTATTATTAGGTGTATCAACATAACCTGTAGGTACAGCAACTAGGTTAACACCTGTAGAAAAACCTAGCTGTAAAGGTAAATTGGTACCAACAGCTTCTCTAGTAGCATGACACCCCTCGACATCGAAGCCAATCCATGCACGTACATGTCTTATAGCTTCTTCGCGGGTGATAAACATGTTAGGGTAACCATTAACTTGATAATTCATTTTAAAACCCATCATAGAGATGAGTCTTCTATAGGTCATGTCCTTAGGTATGCCAGGTATGTCAACACATAAACCTTCAGTTTTGAATTTAGTGTCAACACTGAGGTGTGTAGGTGCCTGTGTAGGATGTAACCCAGTGATTACCTTACTACAATCTTTAAAGAGTCCTGTTACATTTTCAGCTTGTAAAGTTGCCACATTCCTACGTGGAATTTCAAGACTTGTAAATTGCAACTTGTCATAAAGGTCTCTATCAGACATTATGCAAAGTATGCCTACTTTTGCTCTGGTAATAGCAACATTAAATCTGTTTACATTACAAGAGTGAGCTGTTTCAGTGGTTTGAGTGAATATGACATAGTCATATTCTGAGCCCTGTGATGAATCAACAGTTTGAGTTGGTAGTCCCAAAATCTTTGAGGCTACAGCATTCTGTGAATTATAAGGTGAAATAAAGACAGCTTTTCTCCAAGCAGGGTTACGTGTAAGGAATTCTCTTACCACGCCTATTTGTGGCCTGTTAATTGCAGATGAAACATCATGCGTGATAACACCCTTATAAAACATTTTAAAGCATTGAGCTGATTTGTCTTTATGTGCTTTAAGCTTATTATCATAAACCAAAGCACTCACAGTGTCAACAATTTCAGCAGGACAACGCCGACAAGTTCCGAGGAACATGTCTGGACCTATAGTTTTCATAAGTCTACACACTGAATTGAAATATTCTGGTTCTAGTGTGCCCTTAGTTAGCAATGTGCGTGGTGCAGGTAATTGAGCAGGGTCGCCAATGTACACATAGTGCTTAGCACGTAATCTGGCATTGACAACACTCAAATCATAATTTGTGGCCATTGAAATTTCATCAAAGACAACTATATCTGCTGTCGTCTCAGGCAATGCATTTACAGTACAAAAGACATACTGTTCTAATGTTGAATTCACTTTGAATTTATCAAAACACTCTACACGAGCACGTGCAGGTATAATTCTACTACATTTATCTATAGGCAAATATTTTAATGCCTTCTCACATAGTGCATCAACAGCGGCATGAGAGCAAGCTGTATACACTATGCGAGCAGAAGGGTAGTAGAGAGCTAGGCCAATAGCAAAATGACTCTTACCAGTACCAGGTGGTCCCTGGAGTGTAGAATACTTTTGCATACCAACCTTTTGATAATTTGCAACATTGCTAGAAAACTCATCTGAGATATTGAGTGTTGGGTATAAGCCAGTAATTCTAACATAGTGCTCTTGTGGCACTAGTGTAGGTGCACTTAATGGCATTACTGTATGTGATGTCAGCACAAAATAATCACCAACATTTAATTTGTAAGTTGTTGTACCTCGGTAAACAACAGCATCACCATAGTCACCTTTTTCAAAGGTGTACTCTCCTATTTGTACTTTACTGTTTTTAGTTACACGATAACCAGTAAAGACATAATTTCGGTTAAGTGGTGGTCTAGGTTTACCAACTTCCCATGAAAGATGTAATTCTCTGTCAGACAGCACTTCACGTACAGTAGCAATACCATAAGACAGTTTAAATGTCTCCTCAGTAGCTTTGAGCGTTTCTGCTGCAAAAAGCTTGAGTCTTTCAGTACAGGTGTTAGCTAAAATGTAATCACCAGCATTTGTCCAGTCACATGTTGCAATTGCATTAAAGTCAGTAACATTATCGCTACCAACACATGTATTTTTATATAAACCAAAAACTTGTCCATTAGCACACAATGGAAAACTAATGGGTGGTTTATGTGATTTACAATAATAGCTCATACCTCCTAAGTAAAGTTGAGTCACATCTGTGACATCACAACCTGGAGCATTGCAAACATACGGATTAACAGACAAGACTAATTTATGTGATGTTGATATGACATGGTCGTAACAGCATTTACAACATAAGAATGGTCTACGTATGCAAGCACCACATCTTAATGAAGTCTGTGAATTGCAAAGAACACAAGCCCCAACAGCCTGTAAGACTGTATGCGGTGTGTACATAGCCTCATAAAACTCAGGTTCCCAATACCTTGAAGTGTTATCATTAGTAAGCATAACAGAATACATGTCTAACATGTGTCCTGTTAACTCATCATGTAGCTTTCTTATGTATTGTAAGTACAAATGAAAGACATCAGCATACTCCTGATTAGGATGTTTAGTAAGTGGGTAAGCATCTATAGCTAAAGACACGAACCGTTCAATCATAAGTGTACCATCTGTTTTTACGATATCATCTACAAAACAGCCGGCCCCTAGGATTCTTGATGGATCTGGGTAAGGAAGGTACACATAATCATCACCCTGTTTAACTAGCATTGTATGTTGAGAGCAAAATTCATGAGGTCCTTTAGTAAGGTCAGTCTCAGTCCAACATTTTGCTTCAGACATAAAAACATTGTTTTGATAATAAAGAACTGACTTAAAGTTCTTTATGCTAGCCACTAGACCTTGAGATGCATAAGTGCTATTGAAACACACAACAGCATCGTCAGAGAGTATCATCATTGAGAAATGTTTACGCAAATATGCGTAAAACTCATTCACAAAGTCTGTGTCAACATCTCTATTTCTATAGAGACACTCATAAAGTCTGTGTTGTAAATTGCGGACATACTTATCGGCAATTTTGTTACCATCAGTAGATAAAAGTGCATTAACATTGGCCGTGACAGCTTGACAAATGTTAAAAACACTATTAGCATAAGCAGTTGTGGCATCTCCTGATGAGGTTCCACCTGGTTTAACATATAGTGAACCGCCACACATGACCATTTCACTCAATACTTGAGCACACTCATTAGCTAATCTATAGAAACGGTGTGACAAGCTACAACACGTTGTATGTTTGCGAGCAAGAACAAGTGAGGCCATAATTCTAAGCATGTTAGGCATGGCTCTATCACATTTAGGATAATCCCAACCCATAAGGTGAGGGTTTTCTACATCACTATAAACAGTTTTTAACATGTTGTGCCAACCACCATAGAATTTGCTTGTTCCAATTACTACAGTAGCTCCTCTAGTGGCGGCTATTGATTTCAATAATTTTTGATGAAACTGTCTATTGGTCATAGTACTACAGATAGAGACACCAGCTACGGTGCGAGCTCTATTCTTTGCACTAATGGCATACTTAAGATTCATTTGAGTTATAGTAGGGATGACATTACGTTTTGTATATGCGAAAAGTGCATCTTGATCCTCATAACTCATTGAATCATAATAAAGTCTAGCCTTACCCCATTTATTAAATGGAAAACCAGCTGATTTGTCTAGGTTGTTGACGATGACTTGGTTAGCATTAATACAGCCACCATCGTAACAATCAAAGTACTTATCAACAACTTCAACTACAAATAGTAGTTGTCTGATATCACACATTGTTGGTAGATTATAACGATAGTAGTCATAATCGCTGATAGCAGCATTACCATCCTGAGCAAAGAAGAAGTGTTTTAATTCAACAGAACTTCCTTCCTTAAAGAAACCCTTAGACACAGCAAAGTCATAGAAGTCTTTGTTAAAATTACCGGGTTTGACAGTTTGAAAAGCAACATTGTTAGTAAGTGCAGCTACTGAAAAGCACGTAGTGCGTTTATCTAGTAATAGATTACCAGAAGCAGCGTGCATAGCAGGGTCAGCAGCATACACAAGTAATTCCTTAAAACTAAGTCTAGAGCTATGTAAGTTTACATCCTGATTATGTACAACACCTAGCTCTCTGAAGTGGTATCCAGTTGAAACTACAAATGGAACACCATCAACAAATATTTTTCTCACTAGTGGTCCAAAACTTGTAGGTGGGAACACTGTAGAGAATAAAACATTAAAGTTTGCACAATGCAGAATGCATCTGTCATCCAAACAGTTAACACAATTTGGGTGGTATGTCTGATCCCAATATTTAAAATAACGGTCAAAGAGTTTTAACCTCTCTTCCGTGAAGTCATATTTTAACAAATCCCACTTAATGTAAGGCTTTGTTAAGTCAGTGTCAACATGTGACTCTGCAGTTAAAGCCCTGGTCAAGGTTAATATAGGCATTAACAATGAATAATAAGAATCTACAACAGGAACTCCACTACCTGGCGTGGTTTGTATGAAATCACCGAAATCATACCAGTTACCATTGAGATCTTGATTATCTAATGTCAGTACACCAACAATACCAGCATTTCGCATGGCATCACAGAATTGTACTGTTTTTAACAAAGCTTGGCGTACACGTTCACCTAAGTTGGCGTATACGCGTAATATATCTGGGTTTTCTACAAAATCATACCAGTCCTTTTTATTGAAATAATCATCATCACAACAATTGTATGTGACAAGTATTTCTTTTAATGTGTCACAATTACCTTCATCAAAATGCCTTAAAGCATAGACGAGGTCTGCCATTGTGTATTTAGTAAGACGTTGACGTGATATATGTGGTACCATGTCACCGTCTATTCTAAACTTAAAGAAGTCATGTTTAGCAACAGCTGGACAATCCTTAAGTAAATTATAAATTGTTTCTTCATGTTGGTAGTTAGAGAAAGTGTGTCTCTTAACTACAAAGTAAGAATCAATTAAATTGTCATCTTCGTCCTTTTCTTGGAAGCGACAACAATTAGTTTTTAGGAATTTAGCAAAACCAGCTACTTTATCATTGTAGATGTCAAAAGCCCTGTATACGACATCAGTACTAGTGCCTGTGCCGCACGGTGTAAGACGGGCTGCACTTACACCGCAAACCCGTTTAAAAACGATTGTGCATCAGCTGACTGAAGCATGGGTTCGCGGAGTTGATCACAACTACAGCCATAACCTTTCCACATACCGCAGACGGTACAGACTGTGTTTTTAAGTGTAAAACCCACAGGGTCATTAGCACAAGTTGTAGGTATTTGTACATACTTACCTTTTAAGTCACAAAATCCTTTAGGATTTGGATGATCTATGTGGCAACGGCAGTACAGACAACACGATGCACCACCAAAGGATTCTTGATCCATATTGGCTTCCGGTGTAACTGTTATTGCCTGACCAGTACCAGTGTGTGTACACAACATCTTAACACAATTAGTGATTGGTTGTCCCCCACTAGCTAGATAATCTTTGTAAGCTTTAGCAGCATCTACAGCAAAAGCACAGAAAGATAATACAGTTGAATTGGCAGGCACTTCTGTTGCATTACCAGCTTGTAGACGTACTGTGGCAGCTAAACTACCAAGTACCATACCTCTATTTAGGTTGTTTAATCCTTTAATAAAGTATAAATACTTCACTTTAGGACCTTTAGGTGTGTCTGTAACAAACCTACAAGGTGGTTCCAGTTCTGTATAGATAGTACCAGTTCCATCACTCTTAGGGAATCTAGCCCATTTCAAATCCTGTAAATCGGATAACAGTGCAAGTACAAACCTACCTCCCTTTGTTGTGTTGTAGTAAGCTAACGCATTGTCATCAGTGCAAGCAGTTTGTGTAGTACCGGCAGCACAAGACATCTGTCGTAGTGCAACAGGACTAAGCTCATTATTCTGTAATTTGACAGCAGAATTGGCCCTTAAAGCTGTTACAATAAGAGGCCATGCTAAATTAGGTGAATTGTCCATACTAATTTCACTAAGTTGAACAATTTTACTATCTGCATCTACAACCTGTTGGATTTCCCACAATGCTGATGCATAAGTAAATGTTGTACCATCACACGTATTTTTATATGTGTTATAGTCTGGTATGACAACCATTAGTTTGGCTGCTGTTGTAAGAGGTATTATGTTCAAGGGAACACAACCATCTCTTGCATTGTTGATAATGTTGTTGAGTGCATCATTATCCAACTTTCTAAGCATAGTGAAAAGCATTGTCTGCATAGCACTAGTAACTTTTGCCCTCTTGTCCTCAGATCTAGCCTGTTTATACATTTGGGTCATAGCTTGATCAGCCATCTTTTCCAACTTACGTTGCATGGCTGCATCACGGTCAAATTCAGATTTAGCCACATTCAAAGACTTCTTCAACTTTTTAAGAACAACTTCAGAATCACCATTAGCAACAGCCTGCTCATAAGCTTCTTGAGCAGTAGCAAAAGCTGCATATGATGGAAGGGAACTAAACTCTGAGGCTATAGCTTGTAAGGTTGCCCTGTTGTCCAGCATTTCTTCACAAAGCTTGTTTATGTCTACAGCACCCTGCATGGAAAGCAAAACAGAAAGTAGTGAAACCATTTTTTCAAAGGCTTCAGTAGTATCTTTAGCTAAGAGAATGTCATTGTGTAACTGGACACATTGAGCCCACAATTTAGATGATGATTCTACTCTGAGTTGTTGCAAAACTGAGAGTAAGACTACTGATGTGCACTTTACATCTGACATTTTAGACTGTACAGTGGCTACTTTGATACAAGGTTTGCCACCAACACCCAACAATTTAATGTTGAGTTTGAAGGCATCTATGCTATTCTTGGGTGGGAGTAGTCCCTGTGAATTCATATATCTAAACTCCTGTGTAGAAACTAAGTAATCATAAACACCAAGAGTCAGTCTAAAGTAGCGGTTGAGTAAACAAAAGAGGCCAAAGTAACAAGTACAAAAATAGCCTAAGAAACAATAAACTAGCATTATACACTGAAGTGTATTACCAGTTATGAAGAAAATAGGGCAATACTCAACACACATAAAAACAATACCTCTGGCCAAAAACATGACAGTTGTAACTACACCTGAGTAGTTAGAAGTAACAGAGATTATAAGAGCCCACATGGAAATGGCTTGATCTAAAGCATTACCATAATAAACTTTATAAACGAGTGTCAAGACATTCATAAGTGTCCACACTCTCCTAGCACCATCATCATACACAGTTCTTGCTGTCATAAGGATTAGTAACACTACAGCTGATGCATACATAACACAGTCTTTTAGCTTAAAACCAGACAAACTAGTATCAACCATATCCAACCATGTCATAATACGCATCACCCAACTAGCAGGCATATAGACCATATTAAAATAAGCTACAGTGGCAAGAGAAGGTAACAAAAACAAACAGAGAAATGCATGCTTATGTTTGACAAACATCATTGCAAAAGCAGACATAGCAATAATACCCATAGCAAAAGGTAAAAAGGCATTTTCATACAAAAAAAAGAACAAAGACCATTGAGTACTCTGGACTAAAACTAAAAGTGAAGTCAAAATTGTGAGTAACAACCAGTGGTGTGTACCCTTGATTGTTCTTTTCACTGCACTTTGGAAAGTAACACCTGAGCATTGTCTAACAACATCAAAAGGTGTAAATTCATCTTCTAATAAAGCACTACCCAATATGGTACGTCCATTCATACCATTTTGCAGTAATTCTTTTAATGAAGCACACATATCTAAAACGGCAATTCCAGTTTGAGCAGAAAGAGGTCCTAGTATGTCAACATGGTCTTGTGTTAGAGGTTCATAATTGTACTTCATAGCCACAAGGTTAAAGTCATTAAGAGTTGTGGTAAATCGATTGAGAAACCACCTGTCTCCATTTATAACAGCAGCGTACAACCAAGCTAAAACATTAACTGTAATAGTTGTGTCCGTACCAGCTGCTTGTGCTGTTTGCCTGTCAACAAAAGGTCCATAAAAGTTACCTTCTAAGTCTGTGCCAGCATGAACTCCAGTTGGTAATTCCATATGGTGCATGTAACAAAAAGAGACACAGTCATAATCTATGTTAAAACCAACACTACCACATGAACCATTAAGGAATGAACCCTTAATAGTGAAATTGGGCCTCATAGCACATTGGTAAACACCAGATGGTGAACCATTGTAACAAGCTAACACTGAAAAAGTCTGTCCTGGTTGAATGCGAACAAACTTATACTTAGGTGTCTTAGGATTGGCTGTATCAACCTTAAGCTTAAGTACACAATTTTGCATAGAATGTCCAATAACCCTGAGTTGAACATTACCAGCCTGTACCAAGAAATTATGATTAGACTTACGAATGAGTAAATCTTCATAATTAGGGTTAAGCATGTCTTCAGAGGTGCAGATCACATGTCTTGGACAGTAAACTACGTCATCAAGCCAAAGACCGTTAAGTGTAGTTGTACCACAAGTTACTTGTACCATACAACCCTCAACTTTACCAGATGGGAATGCCATTTTTCTAAAACCACTCTGCAAAACAGCTGAGGTGATAGAGGTTTGTGGTGGTTGGTAAAGAACATCAGAACCTGAGTTACTGAAGTCATTGAGAGCCTTTGCGAGATGACAACAAGCAGCTTCTCTGTAGCTAGTTGTATCCATTGCTCCACTAAAATACTTGTACTTATTATAAAGAGCTAAGTATCTATTATATTGCGTAAGAGGTAATAGCACATCACTACGCAACTTTAGATACATTTCTTTATTTAACAAAAAGGTGCACAGCGCAGCTTCTTCAAAAGTACTAAAGGAAACACCATTAAAGACTACACGTCTCTTTAGGTAATTACTAAAGAACCAATAGAAATGCTTTGTGGAAATACAAATGATATAAGCAATTGTTATCCAGAAAGGTACTAAAGGTGTGAACATAACCATCCACTGAATATGTGCTAAAAAAGAAACATCATTAGTAAGATAAAATGTCAAGTACAAGTAAATAACAGAATAAACACCAGGTAAGAATGAGTAAACTGGTGTTAAACAGAGTACAGTGAATGACATAAGGAATAGTAAAGTATTAAAGGCAACTACATGACTGTATTCACCAAAAGCTCTTCTAAACCTCATAAAATAGTAGGCAAGGCATGTTACTACGATAGCTACAATACCACCAGCTACTATAGATGCTGATATGTCCAAAGCACCAATAGGTTGAATTAGTGGTGTAAACATATTAGTAAGTAAATTTACAGCATCTACACCACAGAAAACTCCTGGTAAAGATCTGTAATAATCATTGTTAAGTACCCATCTACCACTAGTAGATACACAAACACCAGCTTCTGATCTTTCACAAGTGCCGTGCCTACAGTACTCAGAATCAAAAGTTGTTACCACTCTAACAGAACCTTCAAGGTAGGTGTTAGGAAATTGAATAATAGAGCCATCCATGAGCACATAACGTGTGTCAGGGCGTAAACTTTCATAAGCAACAGAACCTTCTAGTACATTGGTATCATAACAATATGGTACTGGCTTACCAGAAGCATCTTTAAAAATTGTACATTCAGCAGCCAAAACACAAGCTGATGTTGCAAAGTCAGTGTACTCTATAAGTTTTGATGGTGTGTAACAGATGTTACCAACTGCACTAAAAACTCTAGGTAAGAAATGCAAAAAGTCACCATTAGTTGTGCGTAATATCGTGCCAGGCAAACCAGGCACGACAAAACCCACTTCTCTTGTTATGACTGCAGCAATCAATGGGCAAGCTTTGTCATTAGTATAACTACCACCACGCTGGCTAAACCATGTGTCAAAATCAGCATGTTTGTTAGCAAAACAAGTATCTGTAGATGCTATGTCACGAGTGACACCACCATCAATAGCCTTGTATCCTATGATTTCACTTGAAAAGTCAGTATGTTTAGACATGACATGAACAGGTGTTATTAAATAGAAAATAGCAGCAACAAAAAGGAACACAAGTGTAACTTTAATTAACTGCTTCAACCAATTATTAACAATTTTACCACCCTTAAGTGCTATCTTTGTTGTTACAACATTAACAACTTGTCTAGTAGTTGCACATGTCAACTTAAAAGGTAAGTTATTCTTTTTAGCAGCACTACGTATTTGTTTTCGTAGTTGTTCAGACAATGACATGAAATCTTTAACGTTCCATATCAAAGCAATGTTGTGACTTTTTGCTACCTGCGCATTAATATGACGCGCACTACAGTCAATACAAGCACCAAGGTCACGGGGTGTCATGTTTTCAACTTTGTTATAGGTGAGCATATAGTTATTACAACTATCGCCAGTAACTTCTATGTCAGATTGATGTGACAATTTAAGACATTCAACAACATCTTTAGTTTCTACATCTGAATCAACAAACCCTTGCCGAGCTGCTGAAATAAAAGTAGATAAGACATTGTCTAAGGACACATTCTTTGCAAGTTCAGCTTCTGCAGTTGCAACTAGTGTTTTGAGTTTTTCCATTGGTACGTTAAAAGTTGATGAAAACGTATTAACGTAAGCATCAAACATTTTAACTGCAACTTCCGCACTATCACCAACATCAGACACTAATGCCTGATCTAGTAACAGTATAGGTTGACACATAAGCTGACTGTAGTAAACAGACGCTGATTTTGCAGATGATTCTTCACATTTTGATTTACCATCAAAAACTATAACATTAATAGGCAATGAACCTTTAGTGTTATTAGCTCTCAGGTTGTCTAAGTTAACAAAATGAGAGAGAGAATGTCTTTCATAAGTCTTTTGACCAGCTTTATCAAAGTAAAGATGGATGGAACCATTCTTCACTGTAACACTATCAACGATGTAAGAAGACTGGTCAGTAGGATTTATTGGTCTTTTAAACTGTAGTGACAAGTCTCTCGCAACTTCATCACTAATAAATGTACTACCAGCACAGAATGTATCACAATTAACACAATTCCAATTGTGTAGTTTGCAAAAGCCTTTACCTCCATTAGCATAGACATAAAAGGACCTTCTAACACCATTAACAATAGTTGTACATTCGACTCTTGTTGCTCTATTACGTTTGTAACACATCATACAAGTTGATGAATTACAACCGTCTACAACATGCACATAACTTTTCCATACATAATAAAATGATGCAAAGAAGATGTACATTCTAACCATAGCTGAAATCGGGGCCATTTGTACAAGATTAATTATTAACCACATAAGCCAAGAATTACTAATAAAATGTACTGCAAAATAGCTGAAAAACAATTGCATGATTGCAGCCAATCCAAGTACATAGAAAAACCTAGTGAAAAGAATATATGCCAAAAACCACTCTGCAACTAAGCCAAAAGCAGTTAAATCCCATTTAAAAGATGAAATGGTAATTTGTATAGTTTCTAAAGAAGGATAGGTGTCTAAAGAATCTAAACCACTAAGACAAACACTACAAGGTATAGAACCAGTACAGTAGGTTGCAATAGTGACATTAGTAGAGTTCAAATAGCCTTCTCTGTAACCAGTACAGTAAGAAGGCATGCCTAAATTAGACATTAAAACACCTAAAGCAGCGGTTGAGTAGATTAAAGAACCTAGGCAAACACTTAATAGTAAAAACCAAATTATAATATTTATCAGTTTAGAAAAATTAGGTGACTTCAAATAATTAAATGAAGCCTCTAGACAAAATTTACCGACACTCTTAACAGTATTCTTTGCTATAGTAGTCGGCATAGATGCTTTAATTCTAGAATTTGTACTTCTAGTAAAAGTACACAATTGTAGCAATAAAGTAAAGAAATAAGGCATATAATTAGTACAAACACGGTTTAAACACCGTGTAACTATGTTAGTAGTTGTACTAACAACTTTGTTAAGAAAAGGCTTAGCATAATTAGCTATAGTATCCCAAGGGACACTATTAACAGCAGCTAAACCATGAGTAGCAAGGGTTTTCAAACCTAATACTCTAGATAATTCATTAGGTTTCTTAATAGTAAGACTAGAATTGTCTACATAAGCAGCCATTAGATCTGTGTGGCCAACCTCTTCTGTAATTTTTAAACTATTATTTGCTGGTTTAAGTATAATGTCTCCTACAACTTCGGTAGTTTTCACATTACACTCAAGAACGTCTTTCTGTATGGTAGGATTTTCCACTACTTCTTCAGAGACTGGTTTTAGATCTTCGCAGGCAAGATTATCCATTCCCTGCGCGTCCTCTGACTTCAGTACATCAAACGAATTTGATGTTTCAACTGGTTTTGTGCTCCAAAGACAACGTATACACCAGGTATTTGGTTTATACGTGGCTTTATTAGTTGCATTGTTAACATGCCAAACAATAGGTTTATGTAACAATTTAGCTCCTTTCTTAAAAGAGGGTGTGTAGTGTTTATAATCAATAGCCACCACATCACCATTTAAGTCAGGGAAAAATGTAACTTTAAGCTCTCTTGAAGCAGGTTTCTTATAACCAGTTAACTGGTTTAAATCATCAGCAAATTTGATATTATCACATACAAACTTAAAATTATCGAAGCTTGCGTTTGGATATGGTTGGTTTGGTACAAGATCAATTGGTTGCTCTGTGAAATAAGAATTGTCTTTCTTATAATAATTGTCCAACTTAGGGTCAATTTCTGTACAAACAACACCATCCAATTTATAAGTAACTGGTTTTATGGTTGTTGTGTAACTGTTTTCTTTGTAGAAAACATCCGTAATAGGACCTTTGTATTCTGAGGACTTTGTAAGTAAAGCACCGTCTATGCAATACAAAGTTTCTTTAGAAGTTATATGTTTATAGTGACCACACTGGTAATTACCAGTGTACTCACTAGCACAAGTAAATGTACCATGCTTAAGTTCATACTGAGCAGGTGGTGCTGACATCATAACAAAAGGTGACTCCTGTTGTACTAGATATTTTGTAGCTTGTTTACCACACGTACAAGGTATCTGAACACCTTTCTTAAATTGTTCATAAGAAAGTGTGCCCATGTACATAACAGCTTCTACACCCTTAAGGGTTGTCTGCTGTTGTCCACAAGTTTTACACACCACGTTCAAGACTCTTTTGCAAGAATCTAAATTGGCATGTTGAAACAAGTAACTCATTGTTTCTCTAACATCACCTAACTCACCTACTGTCTTATTACAGTAGGCTAAGATAAGTGCACAAAAGTTAGCAGCTTCACCAGCCCTTGCTCTGTAATAAGCATCTTGTAGAGCAGGTGGATTAAACTTCAACTCTATTTGTTGGAGTGTTAACAATGCAGTGGCAAGATAACAGTTGTTATCTGCCCATTTAATAGAAGTTAAACCATTAACTTGTGGGTATTTCCACTTTTTAGTGTGATTTAATGCTGACATGTACCTACCCAGAAAACTAGGATCAGTTGTGTGGTAGTACTCAAAAGCCTCAACACGTAGAGTGTCATCATTAGGTAAAACATAAAATGTTTTACCTTCATGTGAATTATGAGGTTTTATTTTAGTAACATCAGCTCCATCCAAATAAGTTGGACCAAACTGTTGTCCATATGTCATTGACATGTCCACAACTTGCGTGTGGAGGTTAATGTTGTCTACTGTTGTAAACACCTTAATAGTCCTCACTTCTCTCAAAGAAAGAAGTGTCTTAAGATTGTCAAAGGTGATAACTTCACCATCTAGGTGGAATGTGGTAGGATTACTAGTGTAATATACACTTTTATCACCTCTCTTAAGAAATTCTATACCTAGTTGTGTAGATTGTCCAGAATAGGACCAATCTTTATAGGAACCAGCAAGTGAGATGGTTTCAATAAAATGTTCTTCAGGTGTTTTAGAAGAAGAAGTAAGATAACCATTATACGCTGTAACAGCATCAGGTGAAGAAACAGAAACTGTAGCTGGCACTTTGAGAGATCTCATATACCGAGCAGCTTCTTCCAAATTTAAGCCATGTGTTACATAGCCAAGTGGCATTGTAACAAGAGTTTCATTTAGATCGTTAAGTGTGTTGATAAGTGACGCTACAGTTGTTTTACTGGTGTAAAAGTAAAATCTAGCACCATAATCAACCACACCCTCTTGTATTTTAATACCCTTATATTTACGCTGTATAGTTGAAACTATGGCTTTAGTTTCCACACAGACAGGCATTAATTTGCGTGTTTCTTCTGCATGTGCAAGCATTTCTCGCAAATTCCAAGAAACAGTTCCAAGAATTTCTTGCTTCTCATTAGAGATAATAGATGGTAGAATGTAAAAGGCACTTTTACACTTTTTAAGCACTGTCTTTGCCTCCTCTACAGTGTAACCATTTAAACCCTGACCCGGGTAAGTGGTTATATAATTGTCTGTTGGCACTTTTCTCAAAGCTTTCGCTAGCATTTCAGTAGTGCCACCAGCCTTTTTAGTAGGTATAACCACAGCAGTTAAAACACCCTCTTGAACAACATCACCCACTATATATGGAGCATCTTTCTTTAAGAAAGTGATGTCAATGTCACTAACAAGAGTGGCAGAATCTGGATGAAGATTGCCATTAATGTCAATATAAAGTAACAAGTTTTCTGTGAGGAACTTAGTTTCTTCCAGAGTTGTTGTAACTTCTTCAACACAAGCTTTGATTTTCTTATCATCTTGTTTTCTCTGTTCAACTGAAGGTTTACTTTCAGTTATAAATGGCTTAACTTCCTCTTTAGGAATCTCAGCGATCTTTTGTTCAACTTGCTTTTCACTCTTCATTTCCAAAAAGCTTGAAACAAGTTTGTCATAGAGATTTTTATCAAAGACAGCTAAGTAGACATTTGTGCGAACAGTATCTACACAAACTCTTAAAGAATGTATAGGGTCAGCACCAAAAATACCAGCTGATAATAATGGTGCAAGTAGAACTTCGTGCTGATTAAAATTTTCATAAGCACTCTTAAGAAGTTGAATGTCTTCACCTTTGTTAACATTTGGGCCGACAACATGAAGACAGTGTTTAGCAAGATTGTGTCCGCTTAAAACACAACTACCACCCACTTTAAGTGGTCCATTAGTAGCTATGTAATCATCAGATTCAACTTGCATGGCATTGTTAGTAGCCTTATTTAAGGCTCCTGCAACACCTCCTCCATGTTTAAGGTAAACATTGGCTGCATTAACAACCACTGTTGGTTTTACCTTTTTAGCTTCTTCCACAATGTCTGCATTTTTAATGTATACATTGTCAGTAAGTTTTAAATAACCACTAAAACTATTCACTTCAATAGTCTGAACAACTGGTGTAAGTTCCATCTCTAATTGAGGTTGAACCTCAACAATTGTTTGAATAGTAGTTGTCTGATTGTCCTCACTGCCGTCTTGTTGACCAACAGTTTGTTGACTATCATCATCTAACCAATCTTCTTCTTGCTCTTCTTCAGGTTGAAGAGCAGCAGAAGTGGCACCAAATTCCAAAGGTTTACCTTGGTAATCATCTTCAGTACCATACTCATATTGAGTTGATGGCTCAAACTCTTCTTCTTCACAATCACCTTCTTCTTCATCCTCATCTGGAGGGTAGAAAGAACAATACATATGTGAAGCCAATTTAAACTCACCAGACTCATCAAATAAGTAGTATGTAGCCATACTCCACTCATCTAAATCAATGCCCAGTGGTGTAAGTAATTCAGATACTGGTTGCAAAGTTTTTATGACAGCATCTGCCACAACACAGGCGAACTCATTTACTTCTGTACCGAGTTCAACTGTATAGGCAGAGCACTTCTCATTAAGTACTTTATCAATCCTTTCATCAAGTTCAAAAGTGATATTCACACTCTTGTAACCTTGCACTTCTATCACAGTGTCATCACCAAAAGTAACCTTTGTTGGTGCACCGCCTTTGAGTGTGAAGGTATTGTTTGTTACCATCATATTAGGTGCAAGGGCACAGTACTTTTCTGTGTCTTTGATTTCGAGCAACATAAGCCCGTTAATACAAACTGGTGTACCAACCAATGGAGCTTCAACAGCTTCACTAGTAGGTTGTTCTAATGGTTGTAAATCACCAGTTTTCAAGACAACTTCCTCTGTTAACACTTCTGTGGGAAGTGTTTCTCCCTCTAAGAAGATAATTTCTTTTGGGGCTTTTAGAGGCATGAGTAGGCCAGTTTCTTCTCTGGATTTAACACACTTTCTGTACAATCCCTTTGAGTGCGTGACAAATGTTTCACCTAAATTCAAGGCTTTAAGTTTAGCTCCACCAATAATGATAGAGTCAGCACACAAAGCCAAAAATTTATTTACAAGCTTAAAGAATGTCTGAACACTCTCCTTAATTTCCTTTGCACAGGTGACAATTTGTCCACCGACAATTTCACAAGCACAGGTTGAGATAAATTTAACAATTTCCCAACCGTCTCTAAGAAACTCTACACCTTCCTTAAACTTCTCTTCAAGCCAATCAAGGACGGGTTTGAGTTTTTCATAAACAGTGCCAAAGATGTTAGTTAGCCACTGCGAAGTCAACTGAACAACACCACCTGTAATGTAGGCCATTACAACTAGATTGTTAGTAGCCAAATCAGATGTGAACATCATAGCATCAATGAGTCTCAGTGAATACTGTGAAATTCCATCTAGTATTGTTATAGCGGCCTTCTGTAAAACACGCACAGAATTTTGAGCAGTTTCAAGAGTGCGGGAGAAAATTGATCGTACAACACGAGCAGCCTCTGATGCAAATGCATAAAGAGGACTCAGTATTGATTTCTGTTCACCAATATTCCAGGCACCTTTTTTAGCTTTTCCTTTTGTAACTTTAAAATTACCACAGGATTCAACAATTTGTTTGAATGCTTTATAATCCAAACCTTTCACAGTTTCCACAAAAGCACTTGTGGAAGCAGAAAAAGATGCCAAAATAATGGCGATCTCTTCATTAAGTTTAAAGTCACCAACAATATTGATGTTGACTTTCTCTTTTTGGAGTATTTCAAGAAGGTTGTCATTAAGACCTTCGGAACCTTCTCCAACAACACCTGTATGGTTACAACCTATGTTAGCGCTAGCACGTGGAACCCAATAGGCACACTTGTTATGGCAACCAACATAAGAGAACACACAGCCTCCAAAGGCAATAGTGCGACCACCCTTACGAAGAATGGTTTTCAAGCCAGATTCATTATGGTATTCGGCAAGACTATGCTCAGGTCCTACTTCTGAATTGTGACATGCTGGACAATAAATTTTAACAACAGCATTTTGGGGTAAGTAACCACAAGTAGTGGCACCTTCTTTAGTCAAATTCTCAGTGCCACAAAATTCGCAAGTGGCTTTAACAAAATCGCCCGTCTGCCATGAAGTTTCACCACAATGATCACACTTCATGAGAGTTGAAAGGCACATTTGGTTGCATTCATTTGGTGACGCAACTGGATAGACAGATCGAATTCTACCCATAAAGCCATCAAGCTTTTTCTTTTCAACCCTTGGTTGAATAGTCTTGATTATGGAATTTAAGGGAAATACAAAATTTGGACATTCCCCATTGAAGGTGTCAAATTTCTTTGCCAATTTAATTTCAAAAGGTGTCTGCAATTCATAGCTCTTTTCAGAACGTTCCGTGTACCAAGCAATTTCATGCTCATGTTCACGGCAGCAGTATACACCCCTCTTAGTGTCAATAAAGTCCAGTTGTTCGGACAAAGTGCATGAAGCTTTACCAGCACGTGCTAGAAGGTCTTTAATGCACTCAAGAGGGTAGCCATCAGGGCCACAGAAGTTGTTATCGACATAGCGAGTGTATGCCCCTCCGTTAAGCTCACGCATGAGTTCACGGGTAACACCACTGCTATGTTTAGTGTTCCAGTTTTCTTGAAAATCTTCATAAGGATCAGTGCCAAGCTCGTCGCCTAAGTCAAATGACTTTAGATCGGCGCCGTAACTATGGCCACCAGCTCCTTTATTACCGTTCTTACGAAGAAGAACCTTGCGGTAAGCCACTGGTATTTCGCCCACATGAGGGACAAGGACACCAAGTGTCTCACCACTACGACCGTACTGAATGCCTTCGAGTTCTGCTACCAGCTCAACCATAACATGACCATGAGGTGCAGTTCGAGCATCCGAACGTTTGATGAACACATAGGGCTGTTCAAGTTGAGGCAAAACGCCTTTTTCAACTTCTACTAAGCCACAAGTGCCATCTTTAAGATGTTGACGTGCCTCTGATAAGACCTCCTCCACGGAGTCTCCAAAGCCACGTACGAGCACGTCGCGAACCTGTAAAACAGGCAAACTGAGTTGGACGTGTGTTTTCTCGTTGAAACCAGGGACAAGGCTCTCCATCTTACCTTTCGGTCACACCCGGACGAAACCTAGATGTGCTGATGATCGGCTGCAACACGGACGAAACCGTAAGCAGCCTGCAGAAGATAGACGAGTTACTCGTGTCCTGTCAACGACAGTAATTAGTTATTAATTATACTGCGTGAGTGCACTAAGCATGCAGCCGAGTGACAGCCACACAGATTTTAAAGTTCGTTTAGAGAACAGATCTACAAGAGATCGAAAGTTGGTTGGTTTGTTACCTGGGAAGGTATAAACCTTTAATCCATC\n"
          ]
        }
      ]
    },
    {
      "cell_type": "code",
      "source": [],
      "metadata": {
        "id": "fOtw-qqCdzM2"
      },
      "execution_count": 12,
      "outputs": []
    },
    {
      "cell_type": "code",
      "source": [
        "# running BLAST\n",
        "\n",
        "\n",
        "fasta_sequence = f\">Viral_contig\\n{contig_seq}\"\n",
        "\n",
        "\n",
        "# creating df to store BLAST results\n",
        "columns = [\"Query Sequence\", \"Hit Title\", \"Hit Description\", \"Hit Accession\",\n",
        "           \"Species\", \"E-Value\", \"Bit-Score\", \"Hit sequence\"]\n",
        "df = pd.DataFrame(columns=columns)\n",
        "\n",
        "\n",
        "# defining Entrez query to date range and to viral genomes\n",
        "entrez_query = \"1900/01/01:2020/01/01[PDAT] AND txid10239[Organism:exp]\"\n",
        "\n",
        "\n",
        "# performing BLAST search\n",
        "result_handle = NCBIWWW.qblast(\"blastn\", \"nt\", fasta_sequence, entrez_query=entrez_query)\n",
        "\n",
        "\n",
        "# parsing the output\n",
        "blast_record = NCBIXML.read(result_handle)\n",
        "\n",
        "# selecting the top hit\n",
        "if blast_record.alignments:\n",
        "    top_hit = blast_record.alignments[0]\n",
        "    hsp = top_hit.hsps[0]\n",
        "\n",
        "    # splitting the title to extract species information\n",
        "    title_parts = top_hit.title.split(\"|\")\n",
        "    species = title_parts[-1] if len(title_parts) > 1 else \"Unknown\"\n",
        "\n",
        "    # creating a new row in df\n",
        "    row = {\n",
        "        \"Query Sequence\": fasta_sequence,\n",
        "        \"Hit Title\": top_hit.title,\n",
        "        \"Hit Description\": top_hit.hit_def,\n",
        "        \"Hit Accession\": top_hit.accession,\n",
        "        \"Species\": species,\n",
        "        \"E-Value\": hsp.expect,\n",
        "        \"Bit-Score\": hsp.bits,\n",
        "        \"Hit Sequence\": hsp.sbjct,\n",
        "    }\n",
        "\n",
        "    # and adding it\n",
        "    df = df.append(row, ignore_index=True)\n",
        "\n",
        "\n",
        "result_handle.close()\n",
        "\n",
        "df"
      ],
      "metadata": {
        "colab": {
          "base_uri": "https://localhost:8080/",
          "height": 222
        },
        "id": "9U0GUw-hcLNG",
        "outputId": "badb8e23-7541-4795-bf1f-24d383a783de"
      },
      "execution_count": 13,
      "outputs": [
        {
          "output_type": "stream",
          "name": "stderr",
          "text": [
            "<ipython-input-13-14df5b35cbbc>:46: FutureWarning: The frame.append method is deprecated and will be removed from pandas in a future version. Use pandas.concat instead.\n",
            "  df = df.append(row, ignore_index=True)\n"
          ]
        },
        {
          "output_type": "execute_result",
          "data": {
            "text/plain": [
              "                                      Query Sequence  \\\n",
              "0  >Viral_contig\\nGTGTTTGATTTTTTTTTTTTTTTTTTTTTTT...   \n",
              "\n",
              "                                           Hit Title  \\\n",
              "0  gi|1369125417|gb|MG772933.1| Bat SARS-like cor...   \n",
              "\n",
              "                                     Hit Description Hit Accession  \\\n",
              "0  Bat SARS-like coronavirus isolate bat-SL-CoVZC...      MG772933   \n",
              "\n",
              "                                             Species  E-Value  Bit-Score  \\\n",
              "0   Bat SARS-like coronavirus isolate bat-SL-CoVZ...      0.0    28811.9   \n",
              "\n",
              "  Hit sequence                                       Hit Sequence  \n",
              "0          NaN  TTCCAAGCTATGACACAACCTGTAAAATCATCAGGTAATTTATAAT...  "
            ],
            "text/html": [
              "\n",
              "  <div id=\"df-6aed7f79-f2e4-4c13-8014-821b695677fe\" class=\"colab-df-container\">\n",
              "    <div>\n",
              "<style scoped>\n",
              "    .dataframe tbody tr th:only-of-type {\n",
              "        vertical-align: middle;\n",
              "    }\n",
              "\n",
              "    .dataframe tbody tr th {\n",
              "        vertical-align: top;\n",
              "    }\n",
              "\n",
              "    .dataframe thead th {\n",
              "        text-align: right;\n",
              "    }\n",
              "</style>\n",
              "<table border=\"1\" class=\"dataframe\">\n",
              "  <thead>\n",
              "    <tr style=\"text-align: right;\">\n",
              "      <th></th>\n",
              "      <th>Query Sequence</th>\n",
              "      <th>Hit Title</th>\n",
              "      <th>Hit Description</th>\n",
              "      <th>Hit Accession</th>\n",
              "      <th>Species</th>\n",
              "      <th>E-Value</th>\n",
              "      <th>Bit-Score</th>\n",
              "      <th>Hit sequence</th>\n",
              "      <th>Hit Sequence</th>\n",
              "    </tr>\n",
              "  </thead>\n",
              "  <tbody>\n",
              "    <tr>\n",
              "      <th>0</th>\n",
              "      <td>&gt;Viral_contig\\nGTGTTTGATTTTTTTTTTTTTTTTTTTTTTT...</td>\n",
              "      <td>gi|1369125417|gb|MG772933.1| Bat SARS-like cor...</td>\n",
              "      <td>Bat SARS-like coronavirus isolate bat-SL-CoVZC...</td>\n",
              "      <td>MG772933</td>\n",
              "      <td>Bat SARS-like coronavirus isolate bat-SL-CoVZ...</td>\n",
              "      <td>0.0</td>\n",
              "      <td>28811.9</td>\n",
              "      <td>NaN</td>\n",
              "      <td>TTCCAAGCTATGACACAACCTGTAAAATCATCAGGTAATTTATAAT...</td>\n",
              "    </tr>\n",
              "  </tbody>\n",
              "</table>\n",
              "</div>\n",
              "    <div class=\"colab-df-buttons\">\n",
              "\n",
              "  <div class=\"colab-df-container\">\n",
              "    <button class=\"colab-df-convert\" onclick=\"convertToInteractive('df-6aed7f79-f2e4-4c13-8014-821b695677fe')\"\n",
              "            title=\"Convert this dataframe to an interactive table.\"\n",
              "            style=\"display:none;\">\n",
              "\n",
              "  <svg xmlns=\"http://www.w3.org/2000/svg\" height=\"24px\" viewBox=\"0 -960 960 960\">\n",
              "    <path d=\"M120-120v-720h720v720H120Zm60-500h600v-160H180v160Zm220 220h160v-160H400v160Zm0 220h160v-160H400v160ZM180-400h160v-160H180v160Zm440 0h160v-160H620v160ZM180-180h160v-160H180v160Zm440 0h160v-160H620v160Z\"/>\n",
              "  </svg>\n",
              "    </button>\n",
              "\n",
              "  <style>\n",
              "    .colab-df-container {\n",
              "      display:flex;\n",
              "      gap: 12px;\n",
              "    }\n",
              "\n",
              "    .colab-df-convert {\n",
              "      background-color: #E8F0FE;\n",
              "      border: none;\n",
              "      border-radius: 50%;\n",
              "      cursor: pointer;\n",
              "      display: none;\n",
              "      fill: #1967D2;\n",
              "      height: 32px;\n",
              "      padding: 0 0 0 0;\n",
              "      width: 32px;\n",
              "    }\n",
              "\n",
              "    .colab-df-convert:hover {\n",
              "      background-color: #E2EBFA;\n",
              "      box-shadow: 0px 1px 2px rgba(60, 64, 67, 0.3), 0px 1px 3px 1px rgba(60, 64, 67, 0.15);\n",
              "      fill: #174EA6;\n",
              "    }\n",
              "\n",
              "    .colab-df-buttons div {\n",
              "      margin-bottom: 4px;\n",
              "    }\n",
              "\n",
              "    [theme=dark] .colab-df-convert {\n",
              "      background-color: #3B4455;\n",
              "      fill: #D2E3FC;\n",
              "    }\n",
              "\n",
              "    [theme=dark] .colab-df-convert:hover {\n",
              "      background-color: #434B5C;\n",
              "      box-shadow: 0px 1px 3px 1px rgba(0, 0, 0, 0.15);\n",
              "      filter: drop-shadow(0px 1px 2px rgba(0, 0, 0, 0.3));\n",
              "      fill: #FFFFFF;\n",
              "    }\n",
              "  </style>\n",
              "\n",
              "    <script>\n",
              "      const buttonEl =\n",
              "        document.querySelector('#df-6aed7f79-f2e4-4c13-8014-821b695677fe button.colab-df-convert');\n",
              "      buttonEl.style.display =\n",
              "        google.colab.kernel.accessAllowed ? 'block' : 'none';\n",
              "\n",
              "      async function convertToInteractive(key) {\n",
              "        const element = document.querySelector('#df-6aed7f79-f2e4-4c13-8014-821b695677fe');\n",
              "        const dataTable =\n",
              "          await google.colab.kernel.invokeFunction('convertToInteractive',\n",
              "                                                    [key], {});\n",
              "        if (!dataTable) return;\n",
              "\n",
              "        const docLinkHtml = 'Like what you see? Visit the ' +\n",
              "          '<a target=\"_blank\" href=https://colab.research.google.com/notebooks/data_table.ipynb>data table notebook</a>'\n",
              "          + ' to learn more about interactive tables.';\n",
              "        element.innerHTML = '';\n",
              "        dataTable['output_type'] = 'display_data';\n",
              "        await google.colab.output.renderOutput(dataTable, element);\n",
              "        const docLink = document.createElement('div');\n",
              "        docLink.innerHTML = docLinkHtml;\n",
              "        element.appendChild(docLink);\n",
              "      }\n",
              "    </script>\n",
              "  </div>\n",
              "\n",
              "    </div>\n",
              "  </div>\n"
            ]
          },
          "metadata": {},
          "execution_count": 13
        }
      ]
    },
    {
      "cell_type": "code",
      "source": [],
      "metadata": {
        "id": "epksy8zSmXDz"
      },
      "execution_count": 13,
      "outputs": []
    },
    {
      "cell_type": "code",
      "source": [
        "print('Full BLAST hit description:', df.iloc[0].loc['Hit Description'])\n",
        "print('BLAST hit species:', df.iloc[0].loc['Species'])"
      ],
      "metadata": {
        "colab": {
          "base_uri": "https://localhost:8080/"
        },
        "id": "e0Qnmj0zoRdy",
        "outputId": "fd716def-6f2e-4995-87ae-ce9ac87b021d"
      },
      "execution_count": 14,
      "outputs": [
        {
          "output_type": "stream",
          "name": "stdout",
          "text": [
            "Full BLAST hit description: Bat SARS-like coronavirus isolate bat-SL-CoVZC45, complete genome\n",
            "BLAST hit species:  Bat SARS-like coronavirus isolate bat-SL-CoVZC45, complete genome\n"
          ]
        }
      ]
    },
    {
      "cell_type": "code",
      "source": [],
      "metadata": {
        "id": "DvFBQleToRWO"
      },
      "execution_count": 14,
      "outputs": []
    }
  ]
}